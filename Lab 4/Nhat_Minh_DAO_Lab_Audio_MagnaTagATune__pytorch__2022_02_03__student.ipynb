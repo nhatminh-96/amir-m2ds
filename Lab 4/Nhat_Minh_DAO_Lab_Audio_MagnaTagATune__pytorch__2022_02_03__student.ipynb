{
  "cells": [
    {
      "cell_type": "markdown",
      "metadata": {
        "id": "u63kmX24XOwq"
      },
      "source": [
        "# Lab Audio/ Music Auto-Tagging multi-label\n",
        "\n",
        "**WARNING: This jupiter notebook was created as part of Télécom-Paris teaching programme and is distributed only to its students. \n",
        "Any re-use, modification, distribution outside this framework or making it available (through github, colab or others) is forbidden.**\n",
        "\n",
        "- Date: 2022/02/07\n",
        "- Version: v0.1\n",
        "- Author: geoffroy.peeters@telecom-paris.fr\n",
        "\n",
        "## Objectives of this Lab:\n",
        "\n",
        "[Magna-Tag-A-Tune](https://musicmachinery.com/2009/04/01/magnatagatune-a-new-research-data-set-for-mir/) is a dataset containing 25,863 music clips belonging to one of the 5223 songs, 445 albums and 230 artists. \n",
        "The clips span a broad range of genres like Classical, New Age, Electronica, Rock, Pop, World, Jazz, Blues, Metal, Punk, and more. \n",
        "Each audio clip has been annotated by humans playing the two-player online Tag-A-Tune game. \n",
        "The annotations include tags like ’singer’, ’no singer’, ’violin’, ’drums’, ’classical’, ’jazz’. \n",
        "\n",
        "From this large dataset, we extracted a smaller dataset (1000 music clips) corresponding to the annotation into **instrumentation**.\n",
        "The labels of this dataset are highly unbalanced (some tags are much frequent than others).\n",
        "In this lab, you will develop a system to perform the automatic estimation of these tags. Since tags can co-occur (they are not mutually exclusive), the problem is a **multi-label classification**.\n",
        "\n",
        "## Dataset\n",
        "\n",
        "This dataset is available as a .json file and a .zip file.\n",
        "You will first upload both to your Google Drive in a folder named 'My Drive/_sound/_magnatagatune'.\n",
        "You will first **mount your Google drive** in this notebook to allow accessing its storage.\n",
        "For this lab, we will also run the code on the GPU of Google colab. Do not forget to set **execution type** to GPU.\n",
        "\n",
        "## Feature extraction.\n",
        "For each file, you will extract its audio representations/features using ```librosa```.\n",
        "The representation we will use is the Log-Mel-Spectrogram (with 128 Mel bands), i.e. the Mel-Spectrogram in Log-scale. \n",
        "This representation is the standard inut representation for Deep Neural Network; it is close to the MFCC one but skipping the last DCT.\n",
        "Note that we will use a $\\log(1 + C x)$ with $C=10000$ instead of the standard $\\log(x)$ function. This is to avoid over-representing very small values.\n",
        "\n",
        "In order to avoid having to compute the audio representations/features each time we need them, we will store them as files in the Drive.\n",
        "\n",
        "## Audio patches\n",
        "We will then use a ConvNet to perform the classification of the file over time. \n",
        "For this the big matrix containing the audio representations./features is sliced over time as a succession of 2D patches.\n",
        "These 2D patches are the inputs of our ```ConvNet```. \n",
        "A single file is therefore represented by a succession of 2D patches.\n",
        "\n",
        "## Dataset and Dataloader \n",
        "\n",
        "Unlike scholar examples (using make_circle or MNIST) it is not possible to get all the data simultaneously in memory and then select the one needed for each mini-batch. Instead, we need to develop a ```generator```which will provide the data on-demand (get in memory only the data needed to process a mini-batch). We will do this using the very very convenient ```DataSet``` and ```DataLoader``` from pytorch.\n",
        "\n",
        "## Deep Neural Network\n",
        "\n",
        "We then train a ConvNet which takes as input the patches (by using the DataLoader) and return the probability of each tag. \n",
        "\n",
        "The network has as many outputs neurons as the number of tags.\n",
        "Since we deal multi-label, neurons are independent of each others. \n",
        "We then use a sigmoid for each.\n",
        "We minimize the sum of the Binary Cross Entropy (BCE) over neurons.\n",
        "Note that in pytorch it is common to combine the sigmoid and the BCE into a new loss; here denoted ``BCEWithLogitsLoss``. \n",
        "In this case, the output of the network does not have any non-linear functions. \n",
        "In multi-label classification, for each class $c$, the number of negative examples $|y^{(i)}_c=0|$ is usually much larger than of positive examples $|y^{(i)}_c=1|$. It is therefore benefitial to give a higher weights to positive examples in ``BCEWithLogitsLoss``.\n",
        "\n",
        "## Testing: tag-o-gram\n",
        "\n",
        "Once train, we will apply our model to compute the tag-o-gram (likelihood of each tags over time) of an unknown file.\n",
        "\n",
        "\n",
        "\n",
        "## At the end of this Lab, the student will be able to\n",
        "- Use colab and connect it to Google Drive to work on/store remote data\n",
        "- Process datasets directly from Colab\n",
        "- Use librosa https://librosa.github.io/librosa/ to compute audio representations \n",
        "- Use DataSet and DataLoaders to get on the fly the necessary data for a batch\n",
        "- Perform a multi-label task (tag an audio file into multi-labels) using a Deep Convolutional Neural Network in pytorch\n"
      ]
    },
    {
      "cell_type": "code",
      "execution_count": 1,
      "metadata": {
        "id": "iF7Upav4jejH"
      },
      "outputs": [],
      "source": [
        "import numpy as np\n",
        "import matplotlib.pyplot as plt\n",
        "\n",
        "import glob\n",
        "import os\n",
        "import shutil\n",
        "import json\n",
        "\n",
        "import IPython\n",
        "from tqdm import tqdm\n",
        "import warnings\n",
        "warnings.filterwarnings(action='ignore')\n",
        "import pprint as pp\n",
        "\n",
        "import librosa\n",
        "\n",
        "import torch\n",
        "import torch.nn as nn\n",
        "import torch.nn.functional as F\n",
        "from torch.utils.data import Dataset"
      ]
    },
    {
      "cell_type": "code",
      "execution_count": 2,
      "metadata": {
        "id": "x1Pp7UZYmbDU",
        "colab": {
          "base_uri": "https://localhost:8080/"
        },
        "outputId": "86363876-5d3d-44dc-d667-13e4ab77dedf"
      },
      "outputs": [
        {
          "output_type": "stream",
          "name": "stdout",
          "text": [
            "Collecting ffmpeg\n",
            "  Downloading ffmpeg-1.4.tar.gz (5.1 kB)\n",
            "Building wheels for collected packages: ffmpeg\n",
            "  Building wheel for ffmpeg (setup.py) ... \u001b[?25l\u001b[?25hdone\n",
            "  Created wheel for ffmpeg: filename=ffmpeg-1.4-py3-none-any.whl size=6084 sha256=5ac9b8454f56f5da39ca860eda6bcceebf05764abb2cc1edd5962d49647c9320\n",
            "  Stored in directory: /root/.cache/pip/wheels/64/80/6e/caa3e16deb0267c3cbfd36862058a724144e19fdb9eb03af0f\n",
            "Successfully built ffmpeg\n",
            "Installing collected packages: ffmpeg\n",
            "Successfully installed ffmpeg-1.4\n"
          ]
        }
      ],
      "source": [
        "# If necessary, install ffmpeg to allows mp3 decoding\n",
        "! pip install ffmpeg"
      ]
    },
    {
      "cell_type": "markdown",
      "metadata": {
        "id": "IbWgRqNT3YiR"
      },
      "source": [
        "# Parameters"
      ]
    },
    {
      "cell_type": "code",
      "execution_count": 3,
      "metadata": {
        "id": "UP_O4pYEjejK"
      },
      "outputs": [],
      "source": [
        "use_colab = True\n",
        "use_gpu = True\n",
        "\n",
        "do_magnatagatune1_gtzan2  = 1\n",
        "\n",
        "patch_hop_frame = 17\n",
        "patch_halfduration_frame = 34\n",
        "data_ext = '.lms'\n",
        "do_norm = True\n",
        "\n",
        "dropout_prob = 0.2\n",
        "nb_epoch = 50\n",
        "do_model_train = True\n",
        "\n",
        "do_student = True\n",
        "\n",
        "do_class_method = 'multilabel'\n",
        "subDIR = '/_magnatagatune/'\n",
        "dataset_json = 'dataset_magna-tag-a-tune-sub-instr-100.json'\n",
        "dataset_zip = 'dataset_magna-tag-a-tune.zip'\n",
        "dataset_subDIR =  '/dataset_magna-tag-a-tune/'\n",
        "labelname_dict_l = ['guitar', 'string', 'synth', 'drum', 'violin', 'piano', 'female', 'male', 'sitar', 'flute', 'harpsichord', 'harp']"
      ]
    },
    {
      "cell_type": "markdown",
      "metadata": {
        "id": "hGnCZ2RdjejL"
      },
      "source": [
        "# Set Google Drive\n",
        "\n",
        "When you store locally data in Colab; these data will be removed at the end of your session.\n",
        "In order to able to store definitely your data, you can connect Colab to your Google Drive and then store the data on it. It is done in the following way."
      ]
    },
    {
      "cell_type": "code",
      "execution_count": 4,
      "metadata": {
        "colab": {
          "base_uri": "https://localhost:8080/"
        },
        "id": "rKZ6cRvtjejM",
        "outputId": "2fd8d660-3b4c-45b5-c9cb-00714e8bc5b8"
      },
      "outputs": [
        {
          "output_type": "stream",
          "name": "stdout",
          "text": [
            "Mounted at /content/drive/\n"
          ]
        }
      ],
      "source": [
        "from google.colab import drive\n",
        "mnt_point = '/content/drive/'\n",
        "drive.mount(mnt_point)\n",
        "DIR = mnt_point + '/My Drive/_sound/' + subDIR"
      ]
    },
    {
      "cell_type": "markdown",
      "metadata": {
        "id": "Tu-JhRVT0s5I"
      },
      "source": [
        "We now unzip the file containing the audio of the dataset."
      ]
    },
    {
      "cell_type": "code",
      "execution_count": 5,
      "metadata": {
        "colab": {
          "base_uri": "https://localhost:8080/",
          "height": 340
        },
        "id": "c5-a5C3akRoj",
        "outputId": "2c849385-825a-4e2d-d44d-7a3aa323e123"
      },
      "outputs": [
        {
          "output_type": "error",
          "ename": "KeyboardInterrupt",
          "evalue": "ignored",
          "traceback": [
            "\u001b[0;31m---------------------------------------------------------------------------\u001b[0m",
            "\u001b[0;31mKeyboardInterrupt\u001b[0m                         Traceback (most recent call last)",
            "\u001b[0;32m<ipython-input-5-f9c375d0e23c>\u001b[0m in \u001b[0;36m<module>\u001b[0;34m()\u001b[0m\n\u001b[0;32m----> 1\u001b[0;31m \u001b[0mshutil\u001b[0m\u001b[0;34m.\u001b[0m\u001b[0munpack_archive\u001b[0m\u001b[0;34m(\u001b[0m\u001b[0mDIR\u001b[0m \u001b[0;34m+\u001b[0m \u001b[0mdataset_zip\u001b[0m\u001b[0;34m,\u001b[0m \u001b[0mDIR\u001b[0m\u001b[0;34m)\u001b[0m\u001b[0;34m\u001b[0m\u001b[0;34m\u001b[0m\u001b[0m\n\u001b[0m\u001b[1;32m      2\u001b[0m \u001b[0mlen\u001b[0m\u001b[0;34m(\u001b[0m\u001b[0mglob\u001b[0m\u001b[0;34m.\u001b[0m\u001b[0mglob\u001b[0m\u001b[0;34m(\u001b[0m\u001b[0mDIR\u001b[0m \u001b[0;34m+\u001b[0m \u001b[0mdataset_subDIR\u001b[0m \u001b[0;34m+\u001b[0m \u001b[0;34m'*/*'\u001b[0m\u001b[0;34m)\u001b[0m\u001b[0;34m)\u001b[0m\u001b[0;34m\u001b[0m\u001b[0;34m\u001b[0m\u001b[0m\n",
            "\u001b[0;32m/usr/lib/python3.7/shutil.py\u001b[0m in \u001b[0;36munpack_archive\u001b[0;34m(filename, extract_dir, format)\u001b[0m\n\u001b[1;32m   1000\u001b[0m         \u001b[0mfunc\u001b[0m \u001b[0;34m=\u001b[0m \u001b[0m_UNPACK_FORMATS\u001b[0m\u001b[0;34m[\u001b[0m\u001b[0mformat\u001b[0m\u001b[0;34m]\u001b[0m\u001b[0;34m[\u001b[0m\u001b[0;36m1\u001b[0m\u001b[0;34m]\u001b[0m\u001b[0;34m\u001b[0m\u001b[0;34m\u001b[0m\u001b[0m\n\u001b[1;32m   1001\u001b[0m         \u001b[0mkwargs\u001b[0m \u001b[0;34m=\u001b[0m \u001b[0mdict\u001b[0m\u001b[0;34m(\u001b[0m\u001b[0m_UNPACK_FORMATS\u001b[0m\u001b[0;34m[\u001b[0m\u001b[0mformat\u001b[0m\u001b[0;34m]\u001b[0m\u001b[0;34m[\u001b[0m\u001b[0;36m2\u001b[0m\u001b[0;34m]\u001b[0m\u001b[0;34m)\u001b[0m\u001b[0;34m\u001b[0m\u001b[0;34m\u001b[0m\u001b[0m\n\u001b[0;32m-> 1002\u001b[0;31m         \u001b[0mfunc\u001b[0m\u001b[0;34m(\u001b[0m\u001b[0mfilename\u001b[0m\u001b[0;34m,\u001b[0m \u001b[0mextract_dir\u001b[0m\u001b[0;34m,\u001b[0m \u001b[0;34m**\u001b[0m\u001b[0mkwargs\u001b[0m\u001b[0;34m)\u001b[0m\u001b[0;34m\u001b[0m\u001b[0;34m\u001b[0m\u001b[0m\n\u001b[0m\u001b[1;32m   1003\u001b[0m \u001b[0;34m\u001b[0m\u001b[0m\n\u001b[1;32m   1004\u001b[0m \u001b[0;34m\u001b[0m\u001b[0m\n",
            "\u001b[0;32m/usr/lib/python3.7/shutil.py\u001b[0m in \u001b[0;36m_unpack_zipfile\u001b[0;34m(filename, extract_dir)\u001b[0m\n\u001b[1;32m    916\u001b[0m                 \u001b[0;31m# file\u001b[0m\u001b[0;34m\u001b[0m\u001b[0;34m\u001b[0m\u001b[0;34m\u001b[0m\u001b[0m\n\u001b[1;32m    917\u001b[0m                 \u001b[0mdata\u001b[0m \u001b[0;34m=\u001b[0m \u001b[0mzip\u001b[0m\u001b[0;34m.\u001b[0m\u001b[0mread\u001b[0m\u001b[0;34m(\u001b[0m\u001b[0minfo\u001b[0m\u001b[0;34m.\u001b[0m\u001b[0mfilename\u001b[0m\u001b[0;34m)\u001b[0m\u001b[0;34m\u001b[0m\u001b[0;34m\u001b[0m\u001b[0m\n\u001b[0;32m--> 918\u001b[0;31m                 \u001b[0mf\u001b[0m \u001b[0;34m=\u001b[0m \u001b[0mopen\u001b[0m\u001b[0;34m(\u001b[0m\u001b[0mtarget\u001b[0m\u001b[0;34m,\u001b[0m \u001b[0;34m'wb'\u001b[0m\u001b[0;34m)\u001b[0m\u001b[0;34m\u001b[0m\u001b[0;34m\u001b[0m\u001b[0m\n\u001b[0m\u001b[1;32m    919\u001b[0m                 \u001b[0;32mtry\u001b[0m\u001b[0;34m:\u001b[0m\u001b[0;34m\u001b[0m\u001b[0;34m\u001b[0m\u001b[0m\n\u001b[1;32m    920\u001b[0m                     \u001b[0mf\u001b[0m\u001b[0;34m.\u001b[0m\u001b[0mwrite\u001b[0m\u001b[0;34m(\u001b[0m\u001b[0mdata\u001b[0m\u001b[0;34m)\u001b[0m\u001b[0;34m\u001b[0m\u001b[0;34m\u001b[0m\u001b[0m\n",
            "\u001b[0;31mKeyboardInterrupt\u001b[0m: "
          ]
        }
      ],
      "source": [
        "shutil.unpack_archive(DIR + dataset_zip, DIR)\n",
        "len(glob.glob(DIR + dataset_subDIR + '*/*'))"
      ]
    },
    {
      "cell_type": "markdown",
      "metadata": {
        "id": "cbCpAts5jejN"
      },
      "source": [
        "# Load and prepare dataset\n",
        "\n",
        "The dataset (relationships between audio files and tags) is described in a json file.\n",
        "We load this file and convert the tags to a multi-hot-encoding."
      ]
    },
    {
      "cell_type": "code",
      "execution_count": 6,
      "metadata": {
        "id": "8Pgnh-bjjejO"
      },
      "outputs": [],
      "source": [
        "with open(DIR + dataset_json, 'r') as f:\n",
        "    dataset_l = json.load(f)\n",
        "\n",
        "if do_class_method=='multilabel':\n",
        "  # ---- Convert tag to index of class\n",
        "  for data in dataset_l:\n",
        "      data['target'] = np.zeros(len(labelname_dict_l))\n",
        "      for tag in data['tag']:\n",
        "          if tag in labelname_dict_l:\n",
        "              data['target'][ labelname_dict_l.index(tag) ] = 1"
      ]
    },
    {
      "cell_type": "markdown",
      "metadata": {
        "id": "Qbw3VvcHd3Gg"
      },
      "source": [
        "### Test\n",
        "\n",
        "You should get the following output.\n",
        "```\n",
        "len(dataset_l):  1000\n",
        "labelname_dict_l:  ['guitar', 'string', 'synth', 'drum', 'violin', 'piano', 'female', 'male', 'sitar', 'flute', 'harpsichord', 'harp']\n",
        "{'album': 'J.S. Bach Solo Cantatas',\n",
        " 'artist': 'American Bach Soloists',\n",
        " 'clip_id': 6,\n",
        " 'mp3_path': 'f/american_bach_soloists-j_s__bach_solo_cantatas-01-bwv54__i_aria-146-175.mp3',\n",
        " 'original_url': 'http://he3.magnatune.com/all/01--BWV54%20-%20I%20Aria--ABS.mp3',\n",
        " 'segmentEnd': 175,\n",
        " 'segmentStart': 146,\n",
        " 'tag': ['classical',\n",
        "         'violin',\n",
        "         'string',\n",
        "         'classical',\n",
        "         'opera',\n",
        "         'violin',\n",
        "         'baroque'],\n",
        " 'target': array([0., 1., 0., 0., 1., 0., 0., 0., 0., 0., 0., 0.]),\n",
        " 'title': 'BWV54 - I Aria',\n",
        " 'track_number': 1,\n",
        " 'url': 'http://www.magnatune.com/artists/albums/abs-solocantatas/'}\n",
        "````\n"
      ]
    },
    {
      "cell_type": "code",
      "execution_count": 7,
      "metadata": {
        "colab": {
          "base_uri": "https://localhost:8080/"
        },
        "id": "i4D5Nx1Nd4-Y",
        "outputId": "7679c801-b140-4e03-ebe8-c385032d0b93"
      },
      "outputs": [
        {
          "output_type": "stream",
          "name": "stdout",
          "text": [
            "len(dataset_l):  1000\n",
            "labelname_dict_l:  ['guitar', 'string', 'synth', 'drum', 'violin', 'piano', 'female', 'male', 'sitar', 'flute', 'harpsichord', 'harp']\n",
            "{'album': 'J.S. Bach Solo Cantatas',\n",
            " 'artist': 'American Bach Soloists',\n",
            " 'clip_id': 6,\n",
            " 'mp3_path': 'f/american_bach_soloists-j_s__bach_solo_cantatas-01-bwv54__i_aria-146-175.mp3',\n",
            " 'original_url': 'http://he3.magnatune.com/all/01--BWV54%20-%20I%20Aria--ABS.mp3',\n",
            " 'segmentEnd': 175,\n",
            " 'segmentStart': 146,\n",
            " 'tag': ['classical',\n",
            "         'violin',\n",
            "         'string',\n",
            "         'classical',\n",
            "         'opera',\n",
            "         'violin',\n",
            "         'baroque'],\n",
            " 'target': array([0., 1., 0., 0., 1., 0., 0., 0., 0., 0., 0., 0.]),\n",
            " 'title': 'BWV54 - I Aria',\n",
            " 'track_number': 1,\n",
            " 'url': 'http://www.magnatune.com/artists/albums/abs-solocantatas/'}\n"
          ]
        }
      ],
      "source": [
        "print('len(dataset_l): ', len(dataset_l))\n",
        "print('labelname_dict_l: ',  labelname_dict_l )\n",
        "pp.pprint(dataset_l[1])  "
      ]
    },
    {
      "cell_type": "markdown",
      "metadata": {
        "id": "_IBa1z_ojejQ"
      },
      "source": [
        "# Audio features\n",
        "\n",
        "We create here a function that, given an audio file as input, \n",
        "- load the audio file\n",
        "- extract a given audio representation/ audio features\n",
        "- store the results in the drive; we do so since if this only needs to be computed once. The second time we call this function on the same file, it will load the results from the drive instead of recomputing it.\n",
        "\n",
        "We will use the ```librosa``` package for that."
      ]
    },
    {
      "cell_type": "code",
      "execution_count": 17,
      "metadata": {
        "id": "2M3-RYkfjejQ"
      },
      "outputs": [],
      "source": [
        "def F_do_standardization(data_m):\n",
        "    \"\"\"\n",
        "    description:\n",
        "      perform feature standardization (mean, std) over frames\n",
        "    inputs:\n",
        "      - data_m (nb_dim, nb_frame)\n",
        "    outputs:\n",
        "      - data_m (nb_dim, nb_frame)\n",
        "    \"\"\"\n",
        "    if do_student:\n",
        "        # --- START CODE HERE\n",
        "        mean_v = np.mean(data_m, axis=0)\n",
        "        std_v = np.std(data_m, axis=0)\n",
        "        data_m = data_m-mean_v\n",
        "        data_m = data_m/std_v\n",
        "        # --- STOP CODE HERE\n",
        "          \n",
        "    return data_m"
      ]
    },
    {
      "cell_type": "code",
      "execution_count": 18,
      "metadata": {
        "id": "ARXgIDW7cuSM"
      },
      "outputs": [],
      "source": [
        "def F_log(data_m, C = 10000):\n",
        "  \"\"\"\n",
        "  description:\n",
        "    replacement to log function (to avoid emphasazing very small values)\n",
        "  \"\"\"\n",
        "  return np.log(1 + C*data_m)"
      ]
    },
    {
      "cell_type": "code",
      "execution_count": 28,
      "metadata": {
        "id": "yiKooZzJjejR"
      },
      "outputs": [],
      "source": [
        "def F_get_audio_features(audio_filename, data_ext=''):\n",
        "    \"\"\"\n",
        "    description:\n",
        "      compute Log-Mel-Sepctrogram audio features with n_mels=128, window length L_n = 2048, and hop-size STEP_n = 1024\n",
        "    inputs:\n",
        "      - audio_filename\n",
        "      - data_ext\n",
        "    outputs:\n",
        "      - data_m (nb_dim, nb_frame): Log-Mel-Sepctrogram matrix\n",
        "      - time_sec_v (nb_frame): corresponding time [in sec] of analysis windows\n",
        "    \"\"\"\n",
        "    L_n = 2048\n",
        "    STEP_n = 1024\n",
        "    feature_filename = audio_filename + data_ext + '.npz'\n",
        "\n",
        "    if not os.path.isfile(feature_filename):\n",
        "    #if True:\n",
        "        \n",
        "        if do_student:\n",
        "            # --- START CODE HERE\n",
        "            audio_v, sr_hz = librosa.load(audio_filename)\n",
        "            data_m = librosa.feature.melspectrogram(y=audio_v, sr=sr_hz, n_fft=L_n, hop_length=STEP_n)\n",
        "            #data_m = F_do_standardization(data_m)\n",
        "            data_m = F_log(data_m)\n",
        "            #data_m = F_do_standardization(data_m)\n",
        "            time_sec_v = np.arange(0, audio_v.shape[0], STEP_n)/sr_hz\n",
        "            # --- STOP CODE HERE\n",
        "\n",
        "        np.savez(feature_filename, data_m=data_m, time_sec_v=time_sec_v)\n",
        "    else:\n",
        "        all = np.load(feature_filename)\n",
        "        data_m = all['data_m']\n",
        "        time_sec_v = all['time_sec_v']\n",
        "\n",
        "    return data_m, time_sec_v"
      ]
    },
    {
      "cell_type": "markdown",
      "metadata": {
        "id": "CJi7qM7sdxzR"
      },
      "source": [
        "### Test\n",
        "\n",
        "We test the extraction of audio features on a single audio file. You should get the following output.\n",
        "\n",
        "```\n",
        "shape: (128, 628), min: 0.0, max: 9.236710548400879\n",
        "```\n",
        "\n",
        "<img src=\"https://perso.telecom-paristech.fr/gpeeters/doc/Lab_DL_MagnaTagATune_01.png\">\n"
      ]
    },
    {
      "cell_type": "code",
      "execution_count": 29,
      "metadata": {
        "id": "5JArhMFjjejR",
        "colab": {
          "base_uri": "https://localhost:8080/",
          "height": 286
        },
        "outputId": "500b93fb-8c6d-4d92-b50d-e0f266ddbba9"
      },
      "outputs": [
        {
          "output_type": "stream",
          "name": "stdout",
          "text": [
            "shape: (128, 628), min: 0.0, max: 9.236710548400879\n"
          ]
        },
        {
          "output_type": "display_data",
          "data": {
            "image/png": "[encoded data removed]",
            "text/plain": [
              "<Figure size 432x288 with 2 Axes>"
            ]
          },
          "metadata": {
            "needs_background": "light"
          }
        }
      ],
      "source": [
        "data_m, time_sec_v = F_get_audio_features(DIR + dataset_subDIR + dataset_l[900]['mp3_path'], data_ext);\n",
        "plt.imshow(data_m, aspect='auto'); plt.colorbar()\n",
        "print('shape: {}, min: {}, max: {}'.format(data_m.shape, np.min(data_m), np.max(data_m)))"
      ]
    },
    {
      "cell_type": "code",
      "source": [
        "data_m, time_sec_v = F_get_audio_features('/content/drive//My Drive/_sound//_magnatagatune//dataset_magna-tag-a-tune/4/norine_braun-modern_anguish-01-modern_anguish-204-233.mp3', data_ext);\n",
        "plt.imshow(data_m, aspect='auto'); plt.colorbar()"
      ],
      "metadata": {
        "colab": {
          "base_uri": "https://localhost:8080/",
          "height": 450
        },
        "id": "lYbmmVYTcK3s",
        "outputId": "3064a044-75dd-45e7-8a37-468921a8c91f"
      },
      "execution_count": 51,
      "outputs": [
        {
          "output_type": "error",
          "ename": "EOFError",
          "evalue": "ignored",
          "traceback": [
            "\u001b[0;31m---------------------------------------------------------------------------\u001b[0m",
            "\u001b[0;31mRuntimeError\u001b[0m                              Traceback (most recent call last)",
            "\u001b[0;32m/usr/local/lib/python3.7/dist-packages/librosa/core/audio.py\u001b[0m in \u001b[0;36mload\u001b[0;34m(path, sr, mono, offset, duration, dtype, res_type)\u001b[0m\n\u001b[1;32m    148\u001b[0m     \u001b[0;32mtry\u001b[0m\u001b[0;34m:\u001b[0m\u001b[0;34m\u001b[0m\u001b[0;34m\u001b[0m\u001b[0m\n\u001b[0;32m--> 149\u001b[0;31m         \u001b[0;32mwith\u001b[0m \u001b[0msf\u001b[0m\u001b[0;34m.\u001b[0m\u001b[0mSoundFile\u001b[0m\u001b[0;34m(\u001b[0m\u001b[0mpath\u001b[0m\u001b[0;34m)\u001b[0m \u001b[0;32mas\u001b[0m \u001b[0msf_desc\u001b[0m\u001b[0;34m:\u001b[0m\u001b[0;34m\u001b[0m\u001b[0;34m\u001b[0m\u001b[0m\n\u001b[0m\u001b[1;32m    150\u001b[0m             \u001b[0msr_native\u001b[0m \u001b[0;34m=\u001b[0m \u001b[0msf_desc\u001b[0m\u001b[0;34m.\u001b[0m\u001b[0msamplerate\u001b[0m\u001b[0;34m\u001b[0m\u001b[0;34m\u001b[0m\u001b[0m\n",
            "\u001b[0;32m/usr/local/lib/python3.7/dist-packages/soundfile.py\u001b[0m in \u001b[0;36m__init__\u001b[0;34m(self, file, mode, samplerate, channels, subtype, endian, format, closefd)\u001b[0m\n\u001b[1;32m    628\u001b[0m                                          format, subtype, endian)\n\u001b[0;32m--> 629\u001b[0;31m         \u001b[0mself\u001b[0m\u001b[0;34m.\u001b[0m\u001b[0m_file\u001b[0m \u001b[0;34m=\u001b[0m \u001b[0mself\u001b[0m\u001b[0;34m.\u001b[0m\u001b[0m_open\u001b[0m\u001b[0;34m(\u001b[0m\u001b[0mfile\u001b[0m\u001b[0;34m,\u001b[0m \u001b[0mmode_int\u001b[0m\u001b[0;34m,\u001b[0m \u001b[0mclosefd\u001b[0m\u001b[0;34m)\u001b[0m\u001b[0;34m\u001b[0m\u001b[0;34m\u001b[0m\u001b[0m\n\u001b[0m\u001b[1;32m    630\u001b[0m         \u001b[0;32mif\u001b[0m \u001b[0mset\u001b[0m\u001b[0;34m(\u001b[0m\u001b[0mmode\u001b[0m\u001b[0;34m)\u001b[0m\u001b[0;34m.\u001b[0m\u001b[0missuperset\u001b[0m\u001b[0;34m(\u001b[0m\u001b[0;34m'r+'\u001b[0m\u001b[0;34m)\u001b[0m \u001b[0;32mand\u001b[0m \u001b[0mself\u001b[0m\u001b[0;34m.\u001b[0m\u001b[0mseekable\u001b[0m\u001b[0;34m(\u001b[0m\u001b[0;34m)\u001b[0m\u001b[0;34m:\u001b[0m\u001b[0;34m\u001b[0m\u001b[0;34m\u001b[0m\u001b[0m\n",
            "\u001b[0;32m/usr/local/lib/python3.7/dist-packages/soundfile.py\u001b[0m in \u001b[0;36m_open\u001b[0;34m(self, file, mode_int, closefd)\u001b[0m\n\u001b[1;32m   1183\u001b[0m         _error_check(_snd.sf_error(file_ptr),\n\u001b[0;32m-> 1184\u001b[0;31m                      \"Error opening {0!r}: \".format(self.name))\n\u001b[0m\u001b[1;32m   1185\u001b[0m         \u001b[0;32mif\u001b[0m \u001b[0mmode_int\u001b[0m \u001b[0;34m==\u001b[0m \u001b[0m_snd\u001b[0m\u001b[0;34m.\u001b[0m\u001b[0mSFM_WRITE\u001b[0m\u001b[0;34m:\u001b[0m\u001b[0;34m\u001b[0m\u001b[0;34m\u001b[0m\u001b[0m\n",
            "\u001b[0;32m/usr/local/lib/python3.7/dist-packages/soundfile.py\u001b[0m in \u001b[0;36m_error_check\u001b[0;34m(err, prefix)\u001b[0m\n\u001b[1;32m   1356\u001b[0m         \u001b[0merr_str\u001b[0m \u001b[0;34m=\u001b[0m \u001b[0m_snd\u001b[0m\u001b[0;34m.\u001b[0m\u001b[0msf_error_number\u001b[0m\u001b[0;34m(\u001b[0m\u001b[0merr\u001b[0m\u001b[0;34m)\u001b[0m\u001b[0;34m\u001b[0m\u001b[0;34m\u001b[0m\u001b[0m\n\u001b[0;32m-> 1357\u001b[0;31m         \u001b[0;32mraise\u001b[0m \u001b[0mRuntimeError\u001b[0m\u001b[0;34m(\u001b[0m\u001b[0mprefix\u001b[0m \u001b[0;34m+\u001b[0m \u001b[0m_ffi\u001b[0m\u001b[0;34m.\u001b[0m\u001b[0mstring\u001b[0m\u001b[0;34m(\u001b[0m\u001b[0merr_str\u001b[0m\u001b[0;34m)\u001b[0m\u001b[0;34m.\u001b[0m\u001b[0mdecode\u001b[0m\u001b[0;34m(\u001b[0m\u001b[0;34m'utf-8'\u001b[0m\u001b[0;34m,\u001b[0m \u001b[0;34m'replace'\u001b[0m\u001b[0;34m)\u001b[0m\u001b[0;34m)\u001b[0m\u001b[0;34m\u001b[0m\u001b[0;34m\u001b[0m\u001b[0m\n\u001b[0m\u001b[1;32m   1358\u001b[0m \u001b[0;34m\u001b[0m\u001b[0m\n",
            "\u001b[0;31mRuntimeError\u001b[0m: Error opening '/content/drive//My Drive/_sound//_magnatagatune//dataset_magna-tag-a-tune/4/norine_braun-modern_anguish-01-modern_anguish-204-233.mp3': File contains data in an unknown format.",
            "\nDuring handling of the above exception, another exception occurred:\n",
            "\u001b[0;31mEOFError\u001b[0m                                  Traceback (most recent call last)",
            "\u001b[0;32m<ipython-input-51-815f069ceb74>\u001b[0m in \u001b[0;36m<module>\u001b[0;34m()\u001b[0m\n\u001b[0;32m----> 1\u001b[0;31m \u001b[0mdata_m\u001b[0m\u001b[0;34m,\u001b[0m \u001b[0mtime_sec_v\u001b[0m \u001b[0;34m=\u001b[0m \u001b[0mF_get_audio_features\u001b[0m\u001b[0;34m(\u001b[0m\u001b[0;34m'/content/drive//My Drive/_sound//_magnatagatune//dataset_magna-tag-a-tune/4/norine_braun-modern_anguish-01-modern_anguish-204-233.mp3'\u001b[0m\u001b[0;34m,\u001b[0m \u001b[0mdata_ext\u001b[0m\u001b[0;34m)\u001b[0m\u001b[0;34m;\u001b[0m\u001b[0;34m\u001b[0m\u001b[0;34m\u001b[0m\u001b[0m\n\u001b[0m\u001b[1;32m      2\u001b[0m \u001b[0mplt\u001b[0m\u001b[0;34m.\u001b[0m\u001b[0mimshow\u001b[0m\u001b[0;34m(\u001b[0m\u001b[0mdata_m\u001b[0m\u001b[0;34m,\u001b[0m \u001b[0maspect\u001b[0m\u001b[0;34m=\u001b[0m\u001b[0;34m'auto'\u001b[0m\u001b[0;34m)\u001b[0m\u001b[0;34m;\u001b[0m \u001b[0mplt\u001b[0m\u001b[0;34m.\u001b[0m\u001b[0mcolorbar\u001b[0m\u001b[0;34m(\u001b[0m\u001b[0;34m)\u001b[0m\u001b[0;34m\u001b[0m\u001b[0;34m\u001b[0m\u001b[0m\n",
            "\u001b[0;32m<ipython-input-28-6e0310f45242>\u001b[0m in \u001b[0;36mF_get_audio_features\u001b[0;34m(audio_filename, data_ext)\u001b[0m\n\u001b[1;32m     19\u001b[0m         \u001b[0;32mif\u001b[0m \u001b[0mdo_student\u001b[0m\u001b[0;34m:\u001b[0m\u001b[0;34m\u001b[0m\u001b[0;34m\u001b[0m\u001b[0m\n\u001b[1;32m     20\u001b[0m             \u001b[0;31m# --- START CODE HERE\u001b[0m\u001b[0;34m\u001b[0m\u001b[0;34m\u001b[0m\u001b[0;34m\u001b[0m\u001b[0m\n\u001b[0;32m---> 21\u001b[0;31m             \u001b[0maudio_v\u001b[0m\u001b[0;34m,\u001b[0m \u001b[0msr_hz\u001b[0m \u001b[0;34m=\u001b[0m \u001b[0mlibrosa\u001b[0m\u001b[0;34m.\u001b[0m\u001b[0mload\u001b[0m\u001b[0;34m(\u001b[0m\u001b[0maudio_filename\u001b[0m\u001b[0;34m)\u001b[0m\u001b[0;34m\u001b[0m\u001b[0;34m\u001b[0m\u001b[0m\n\u001b[0m\u001b[1;32m     22\u001b[0m             \u001b[0mdata_m\u001b[0m \u001b[0;34m=\u001b[0m \u001b[0mlibrosa\u001b[0m\u001b[0;34m.\u001b[0m\u001b[0mfeature\u001b[0m\u001b[0;34m.\u001b[0m\u001b[0mmelspectrogram\u001b[0m\u001b[0;34m(\u001b[0m\u001b[0my\u001b[0m\u001b[0;34m=\u001b[0m\u001b[0maudio_v\u001b[0m\u001b[0;34m,\u001b[0m \u001b[0msr\u001b[0m\u001b[0;34m=\u001b[0m\u001b[0msr_hz\u001b[0m\u001b[0;34m,\u001b[0m \u001b[0mn_fft\u001b[0m\u001b[0;34m=\u001b[0m\u001b[0mL_n\u001b[0m\u001b[0;34m,\u001b[0m \u001b[0mhop_length\u001b[0m\u001b[0;34m=\u001b[0m\u001b[0mSTEP_n\u001b[0m\u001b[0;34m)\u001b[0m\u001b[0;34m\u001b[0m\u001b[0;34m\u001b[0m\u001b[0m\n\u001b[1;32m     23\u001b[0m             \u001b[0;31m#data_m = F_do_standardization(data_m)\u001b[0m\u001b[0;34m\u001b[0m\u001b[0;34m\u001b[0m\u001b[0;34m\u001b[0m\u001b[0m\n",
            "\u001b[0;32m/usr/local/lib/python3.7/dist-packages/librosa/core/audio.py\u001b[0m in \u001b[0;36mload\u001b[0;34m(path, sr, mono, offset, duration, dtype, res_type)\u001b[0m\n\u001b[1;32m    164\u001b[0m         \u001b[0;32mif\u001b[0m \u001b[0misinstance\u001b[0m\u001b[0;34m(\u001b[0m\u001b[0mpath\u001b[0m\u001b[0;34m,\u001b[0m \u001b[0;34m(\u001b[0m\u001b[0mstr\u001b[0m\u001b[0;34m,\u001b[0m \u001b[0mpathlib\u001b[0m\u001b[0;34m.\u001b[0m\u001b[0mPurePath\u001b[0m\u001b[0;34m)\u001b[0m\u001b[0;34m)\u001b[0m\u001b[0;34m:\u001b[0m\u001b[0;34m\u001b[0m\u001b[0;34m\u001b[0m\u001b[0m\n\u001b[1;32m    165\u001b[0m             \u001b[0mwarnings\u001b[0m\u001b[0;34m.\u001b[0m\u001b[0mwarn\u001b[0m\u001b[0;34m(\u001b[0m\u001b[0;34m\"PySoundFile failed. Trying audioread instead.\"\u001b[0m\u001b[0;34m)\u001b[0m\u001b[0;34m\u001b[0m\u001b[0;34m\u001b[0m\u001b[0m\n\u001b[0;32m--> 166\u001b[0;31m             \u001b[0my\u001b[0m\u001b[0;34m,\u001b[0m \u001b[0msr_native\u001b[0m \u001b[0;34m=\u001b[0m \u001b[0m__audioread_load\u001b[0m\u001b[0;34m(\u001b[0m\u001b[0mpath\u001b[0m\u001b[0;34m,\u001b[0m \u001b[0moffset\u001b[0m\u001b[0;34m,\u001b[0m \u001b[0mduration\u001b[0m\u001b[0;34m,\u001b[0m \u001b[0mdtype\u001b[0m\u001b[0;34m)\u001b[0m\u001b[0;34m\u001b[0m\u001b[0;34m\u001b[0m\u001b[0m\n\u001b[0m\u001b[1;32m    167\u001b[0m         \u001b[0;32melse\u001b[0m\u001b[0;34m:\u001b[0m\u001b[0;34m\u001b[0m\u001b[0;34m\u001b[0m\u001b[0m\n\u001b[1;32m    168\u001b[0m             \u001b[0;32mraise\u001b[0m \u001b[0;34m(\u001b[0m\u001b[0mexc\u001b[0m\u001b[0;34m)\u001b[0m\u001b[0;34m\u001b[0m\u001b[0;34m\u001b[0m\u001b[0m\n",
            "\u001b[0;32m/usr/local/lib/python3.7/dist-packages/librosa/core/audio.py\u001b[0m in \u001b[0;36m__audioread_load\u001b[0;34m(path, offset, duration, dtype)\u001b[0m\n\u001b[1;32m    188\u001b[0m \u001b[0;34m\u001b[0m\u001b[0m\n\u001b[1;32m    189\u001b[0m     \u001b[0my\u001b[0m \u001b[0;34m=\u001b[0m \u001b[0;34m[\u001b[0m\u001b[0;34m]\u001b[0m\u001b[0;34m\u001b[0m\u001b[0;34m\u001b[0m\u001b[0m\n\u001b[0;32m--> 190\u001b[0;31m     \u001b[0;32mwith\u001b[0m \u001b[0maudioread\u001b[0m\u001b[0;34m.\u001b[0m\u001b[0maudio_open\u001b[0m\u001b[0;34m(\u001b[0m\u001b[0mpath\u001b[0m\u001b[0;34m)\u001b[0m \u001b[0;32mas\u001b[0m \u001b[0minput_file\u001b[0m\u001b[0;34m:\u001b[0m\u001b[0;34m\u001b[0m\u001b[0;34m\u001b[0m\u001b[0m\n\u001b[0m\u001b[1;32m    191\u001b[0m         \u001b[0msr_native\u001b[0m \u001b[0;34m=\u001b[0m \u001b[0minput_file\u001b[0m\u001b[0;34m.\u001b[0m\u001b[0msamplerate\u001b[0m\u001b[0;34m\u001b[0m\u001b[0;34m\u001b[0m\u001b[0m\n\u001b[1;32m    192\u001b[0m         \u001b[0mn_channels\u001b[0m \u001b[0;34m=\u001b[0m \u001b[0minput_file\u001b[0m\u001b[0;34m.\u001b[0m\u001b[0mchannels\u001b[0m\u001b[0;34m\u001b[0m\u001b[0;34m\u001b[0m\u001b[0m\n",
            "\u001b[0;32m/usr/local/lib/python3.7/dist-packages/audioread/__init__.py\u001b[0m in \u001b[0;36maudio_open\u001b[0;34m(path, backends)\u001b[0m\n\u001b[1;32m    109\u001b[0m     \u001b[0;32mfor\u001b[0m \u001b[0mBackendClass\u001b[0m \u001b[0;32min\u001b[0m \u001b[0mbackends\u001b[0m\u001b[0;34m:\u001b[0m\u001b[0;34m\u001b[0m\u001b[0;34m\u001b[0m\u001b[0m\n\u001b[1;32m    110\u001b[0m         \u001b[0;32mtry\u001b[0m\u001b[0;34m:\u001b[0m\u001b[0;34m\u001b[0m\u001b[0;34m\u001b[0m\u001b[0m\n\u001b[0;32m--> 111\u001b[0;31m             \u001b[0;32mreturn\u001b[0m \u001b[0mBackendClass\u001b[0m\u001b[0;34m(\u001b[0m\u001b[0mpath\u001b[0m\u001b[0;34m)\u001b[0m\u001b[0;34m\u001b[0m\u001b[0;34m\u001b[0m\u001b[0m\n\u001b[0m\u001b[1;32m    112\u001b[0m         \u001b[0;32mexcept\u001b[0m \u001b[0mDecodeError\u001b[0m\u001b[0;34m:\u001b[0m\u001b[0;34m\u001b[0m\u001b[0;34m\u001b[0m\u001b[0m\n\u001b[1;32m    113\u001b[0m             \u001b[0;32mpass\u001b[0m\u001b[0;34m\u001b[0m\u001b[0;34m\u001b[0m\u001b[0m\n",
            "\u001b[0;32m/usr/local/lib/python3.7/dist-packages/audioread/rawread.py\u001b[0m in \u001b[0;36m__init__\u001b[0;34m(self, filename)\u001b[0m\n\u001b[1;32m     63\u001b[0m \u001b[0;34m\u001b[0m\u001b[0m\n\u001b[1;32m     64\u001b[0m         \u001b[0;32mtry\u001b[0m\u001b[0;34m:\u001b[0m\u001b[0;34m\u001b[0m\u001b[0;34m\u001b[0m\u001b[0m\n\u001b[0;32m---> 65\u001b[0;31m             \u001b[0mself\u001b[0m\u001b[0;34m.\u001b[0m\u001b[0m_file\u001b[0m \u001b[0;34m=\u001b[0m \u001b[0maifc\u001b[0m\u001b[0;34m.\u001b[0m\u001b[0mopen\u001b[0m\u001b[0;34m(\u001b[0m\u001b[0mself\u001b[0m\u001b[0;34m.\u001b[0m\u001b[0m_fh\u001b[0m\u001b[0;34m)\u001b[0m\u001b[0;34m\u001b[0m\u001b[0;34m\u001b[0m\u001b[0m\n\u001b[0m\u001b[1;32m     66\u001b[0m         \u001b[0;32mexcept\u001b[0m \u001b[0maifc\u001b[0m\u001b[0;34m.\u001b[0m\u001b[0mError\u001b[0m\u001b[0;34m:\u001b[0m\u001b[0;34m\u001b[0m\u001b[0;34m\u001b[0m\u001b[0m\n\u001b[1;32m     67\u001b[0m             \u001b[0;31m# Return to the beginning of the file to try the next reader.\u001b[0m\u001b[0;34m\u001b[0m\u001b[0;34m\u001b[0m\u001b[0;34m\u001b[0m\u001b[0m\n",
            "\u001b[0;32m/usr/lib/python3.7/aifc.py\u001b[0m in \u001b[0;36mopen\u001b[0;34m(f, mode)\u001b[0m\n\u001b[1;32m    915\u001b[0m             \u001b[0mmode\u001b[0m \u001b[0;34m=\u001b[0m \u001b[0;34m'rb'\u001b[0m\u001b[0;34m\u001b[0m\u001b[0;34m\u001b[0m\u001b[0m\n\u001b[1;32m    916\u001b[0m     \u001b[0;32mif\u001b[0m \u001b[0mmode\u001b[0m \u001b[0;32min\u001b[0m \u001b[0;34m(\u001b[0m\u001b[0;34m'r'\u001b[0m\u001b[0;34m,\u001b[0m \u001b[0;34m'rb'\u001b[0m\u001b[0;34m)\u001b[0m\u001b[0;34m:\u001b[0m\u001b[0;34m\u001b[0m\u001b[0;34m\u001b[0m\u001b[0m\n\u001b[0;32m--> 917\u001b[0;31m         \u001b[0;32mreturn\u001b[0m \u001b[0mAifc_read\u001b[0m\u001b[0;34m(\u001b[0m\u001b[0mf\u001b[0m\u001b[0;34m)\u001b[0m\u001b[0;34m\u001b[0m\u001b[0;34m\u001b[0m\u001b[0m\n\u001b[0m\u001b[1;32m    918\u001b[0m     \u001b[0;32melif\u001b[0m \u001b[0mmode\u001b[0m \u001b[0;32min\u001b[0m \u001b[0;34m(\u001b[0m\u001b[0;34m'w'\u001b[0m\u001b[0;34m,\u001b[0m \u001b[0;34m'wb'\u001b[0m\u001b[0;34m)\u001b[0m\u001b[0;34m:\u001b[0m\u001b[0;34m\u001b[0m\u001b[0;34m\u001b[0m\u001b[0m\n\u001b[1;32m    919\u001b[0m         \u001b[0;32mreturn\u001b[0m \u001b[0mAifc_write\u001b[0m\u001b[0;34m(\u001b[0m\u001b[0mf\u001b[0m\u001b[0;34m)\u001b[0m\u001b[0;34m\u001b[0m\u001b[0;34m\u001b[0m\u001b[0m\n",
            "\u001b[0;32m/usr/lib/python3.7/aifc.py\u001b[0m in \u001b[0;36m__init__\u001b[0;34m(self, f)\u001b[0m\n\u001b[1;32m    356\u001b[0m         \u001b[0;32melse\u001b[0m\u001b[0;34m:\u001b[0m\u001b[0;34m\u001b[0m\u001b[0;34m\u001b[0m\u001b[0m\n\u001b[1;32m    357\u001b[0m             \u001b[0;31m# assume it is an open file object already\u001b[0m\u001b[0;34m\u001b[0m\u001b[0;34m\u001b[0m\u001b[0;34m\u001b[0m\u001b[0m\n\u001b[0;32m--> 358\u001b[0;31m             \u001b[0mself\u001b[0m\u001b[0;34m.\u001b[0m\u001b[0minitfp\u001b[0m\u001b[0;34m(\u001b[0m\u001b[0mf\u001b[0m\u001b[0;34m)\u001b[0m\u001b[0;34m\u001b[0m\u001b[0;34m\u001b[0m\u001b[0m\n\u001b[0m\u001b[1;32m    359\u001b[0m \u001b[0;34m\u001b[0m\u001b[0m\n\u001b[1;32m    360\u001b[0m     \u001b[0;32mdef\u001b[0m \u001b[0m__enter__\u001b[0m\u001b[0;34m(\u001b[0m\u001b[0mself\u001b[0m\u001b[0;34m)\u001b[0m\u001b[0;34m:\u001b[0m\u001b[0;34m\u001b[0m\u001b[0;34m\u001b[0m\u001b[0m\n",
            "\u001b[0;32m/usr/lib/python3.7/aifc.py\u001b[0m in \u001b[0;36minitfp\u001b[0;34m(self, file)\u001b[0m\n\u001b[1;32m    312\u001b[0m         \u001b[0mself\u001b[0m\u001b[0;34m.\u001b[0m\u001b[0m_soundpos\u001b[0m \u001b[0;34m=\u001b[0m \u001b[0;36m0\u001b[0m\u001b[0;34m\u001b[0m\u001b[0;34m\u001b[0m\u001b[0m\n\u001b[1;32m    313\u001b[0m         \u001b[0mself\u001b[0m\u001b[0;34m.\u001b[0m\u001b[0m_file\u001b[0m \u001b[0;34m=\u001b[0m \u001b[0mfile\u001b[0m\u001b[0;34m\u001b[0m\u001b[0;34m\u001b[0m\u001b[0m\n\u001b[0;32m--> 314\u001b[0;31m         \u001b[0mchunk\u001b[0m \u001b[0;34m=\u001b[0m \u001b[0mChunk\u001b[0m\u001b[0;34m(\u001b[0m\u001b[0mfile\u001b[0m\u001b[0;34m)\u001b[0m\u001b[0;34m\u001b[0m\u001b[0;34m\u001b[0m\u001b[0m\n\u001b[0m\u001b[1;32m    315\u001b[0m         \u001b[0;32mif\u001b[0m \u001b[0mchunk\u001b[0m\u001b[0;34m.\u001b[0m\u001b[0mgetname\u001b[0m\u001b[0;34m(\u001b[0m\u001b[0;34m)\u001b[0m \u001b[0;34m!=\u001b[0m \u001b[0;34mb'FORM'\u001b[0m\u001b[0;34m:\u001b[0m\u001b[0;34m\u001b[0m\u001b[0;34m\u001b[0m\u001b[0m\n\u001b[1;32m    316\u001b[0m             \u001b[0;32mraise\u001b[0m \u001b[0mError\u001b[0m\u001b[0;34m(\u001b[0m\u001b[0;34m'file does not start with FORM id'\u001b[0m\u001b[0;34m)\u001b[0m\u001b[0;34m\u001b[0m\u001b[0;34m\u001b[0m\u001b[0m\n",
            "\u001b[0;32m/usr/lib/python3.7/chunk.py\u001b[0m in \u001b[0;36m__init__\u001b[0;34m(self, file, align, bigendian, inclheader)\u001b[0m\n\u001b[1;32m     61\u001b[0m         \u001b[0mself\u001b[0m\u001b[0;34m.\u001b[0m\u001b[0mchunkname\u001b[0m \u001b[0;34m=\u001b[0m \u001b[0mfile\u001b[0m\u001b[0;34m.\u001b[0m\u001b[0mread\u001b[0m\u001b[0;34m(\u001b[0m\u001b[0;36m4\u001b[0m\u001b[0;34m)\u001b[0m\u001b[0;34m\u001b[0m\u001b[0;34m\u001b[0m\u001b[0m\n\u001b[1;32m     62\u001b[0m         \u001b[0;32mif\u001b[0m \u001b[0mlen\u001b[0m\u001b[0;34m(\u001b[0m\u001b[0mself\u001b[0m\u001b[0;34m.\u001b[0m\u001b[0mchunkname\u001b[0m\u001b[0;34m)\u001b[0m \u001b[0;34m<\u001b[0m \u001b[0;36m4\u001b[0m\u001b[0;34m:\u001b[0m\u001b[0;34m\u001b[0m\u001b[0;34m\u001b[0m\u001b[0m\n\u001b[0;32m---> 63\u001b[0;31m             \u001b[0;32mraise\u001b[0m \u001b[0mEOFError\u001b[0m\u001b[0;34m\u001b[0m\u001b[0;34m\u001b[0m\u001b[0m\n\u001b[0m\u001b[1;32m     64\u001b[0m         \u001b[0;32mtry\u001b[0m\u001b[0;34m:\u001b[0m\u001b[0;34m\u001b[0m\u001b[0;34m\u001b[0m\u001b[0m\n\u001b[1;32m     65\u001b[0m             \u001b[0mself\u001b[0m\u001b[0;34m.\u001b[0m\u001b[0mchunksize\u001b[0m \u001b[0;34m=\u001b[0m \u001b[0mstruct\u001b[0m\u001b[0;34m.\u001b[0m\u001b[0munpack_from\u001b[0m\u001b[0;34m(\u001b[0m\u001b[0mstrflag\u001b[0m\u001b[0;34m+\u001b[0m\u001b[0;34m'L'\u001b[0m\u001b[0;34m,\u001b[0m \u001b[0mfile\u001b[0m\u001b[0;34m.\u001b[0m\u001b[0mread\u001b[0m\u001b[0;34m(\u001b[0m\u001b[0;36m4\u001b[0m\u001b[0;34m)\u001b[0m\u001b[0;34m)\u001b[0m\u001b[0;34m[\u001b[0m\u001b[0;36m0\u001b[0m\u001b[0;34m]\u001b[0m\u001b[0;34m\u001b[0m\u001b[0;34m\u001b[0m\u001b[0m\n",
            "\u001b[0;31mEOFError\u001b[0m: "
          ]
        }
      ]
    },
    {
      "cell_type": "code",
      "source": [
        "librosa.load(f'/content/drive//My Drive/_sound//_magnatagatune//dataset_magna-tag-a-tune/4/norine_braun-modern_anguish-01-modern_anguish-204-233.mp3')"
      ],
      "metadata": {
        "colab": {
          "base_uri": "https://localhost:8080/",
          "height": 450
        },
        "id": "Fg3wM_1xccDw",
        "outputId": "d3703909-1e8d-4e8e-cd92-2590a8ecd1ce"
      },
      "execution_count": 53,
      "outputs": [
        {
          "output_type": "error",
          "ename": "EOFError",
          "evalue": "ignored",
          "traceback": [
            "\u001b[0;31m---------------------------------------------------------------------------\u001b[0m",
            "\u001b[0;31mRuntimeError\u001b[0m                              Traceback (most recent call last)",
            "\u001b[0;32m/usr/local/lib/python3.7/dist-packages/librosa/core/audio.py\u001b[0m in \u001b[0;36mload\u001b[0;34m(path, sr, mono, offset, duration, dtype, res_type)\u001b[0m\n\u001b[1;32m    148\u001b[0m     \u001b[0;32mtry\u001b[0m\u001b[0;34m:\u001b[0m\u001b[0;34m\u001b[0m\u001b[0;34m\u001b[0m\u001b[0m\n\u001b[0;32m--> 149\u001b[0;31m         \u001b[0;32mwith\u001b[0m \u001b[0msf\u001b[0m\u001b[0;34m.\u001b[0m\u001b[0mSoundFile\u001b[0m\u001b[0;34m(\u001b[0m\u001b[0mpath\u001b[0m\u001b[0;34m)\u001b[0m \u001b[0;32mas\u001b[0m \u001b[0msf_desc\u001b[0m\u001b[0;34m:\u001b[0m\u001b[0;34m\u001b[0m\u001b[0;34m\u001b[0m\u001b[0m\n\u001b[0m\u001b[1;32m    150\u001b[0m             \u001b[0msr_native\u001b[0m \u001b[0;34m=\u001b[0m \u001b[0msf_desc\u001b[0m\u001b[0;34m.\u001b[0m\u001b[0msamplerate\u001b[0m\u001b[0;34m\u001b[0m\u001b[0;34m\u001b[0m\u001b[0m\n",
            "\u001b[0;32m/usr/local/lib/python3.7/dist-packages/soundfile.py\u001b[0m in \u001b[0;36m__init__\u001b[0;34m(self, file, mode, samplerate, channels, subtype, endian, format, closefd)\u001b[0m\n\u001b[1;32m    628\u001b[0m                                          format, subtype, endian)\n\u001b[0;32m--> 629\u001b[0;31m         \u001b[0mself\u001b[0m\u001b[0;34m.\u001b[0m\u001b[0m_file\u001b[0m \u001b[0;34m=\u001b[0m \u001b[0mself\u001b[0m\u001b[0;34m.\u001b[0m\u001b[0m_open\u001b[0m\u001b[0;34m(\u001b[0m\u001b[0mfile\u001b[0m\u001b[0;34m,\u001b[0m \u001b[0mmode_int\u001b[0m\u001b[0;34m,\u001b[0m \u001b[0mclosefd\u001b[0m\u001b[0;34m)\u001b[0m\u001b[0;34m\u001b[0m\u001b[0;34m\u001b[0m\u001b[0m\n\u001b[0m\u001b[1;32m    630\u001b[0m         \u001b[0;32mif\u001b[0m \u001b[0mset\u001b[0m\u001b[0;34m(\u001b[0m\u001b[0mmode\u001b[0m\u001b[0;34m)\u001b[0m\u001b[0;34m.\u001b[0m\u001b[0missuperset\u001b[0m\u001b[0;34m(\u001b[0m\u001b[0;34m'r+'\u001b[0m\u001b[0;34m)\u001b[0m \u001b[0;32mand\u001b[0m \u001b[0mself\u001b[0m\u001b[0;34m.\u001b[0m\u001b[0mseekable\u001b[0m\u001b[0;34m(\u001b[0m\u001b[0;34m)\u001b[0m\u001b[0;34m:\u001b[0m\u001b[0;34m\u001b[0m\u001b[0;34m\u001b[0m\u001b[0m\n",
            "\u001b[0;32m/usr/local/lib/python3.7/dist-packages/soundfile.py\u001b[0m in \u001b[0;36m_open\u001b[0;34m(self, file, mode_int, closefd)\u001b[0m\n\u001b[1;32m   1183\u001b[0m         _error_check(_snd.sf_error(file_ptr),\n\u001b[0;32m-> 1184\u001b[0;31m                      \"Error opening {0!r}: \".format(self.name))\n\u001b[0m\u001b[1;32m   1185\u001b[0m         \u001b[0;32mif\u001b[0m \u001b[0mmode_int\u001b[0m \u001b[0;34m==\u001b[0m \u001b[0m_snd\u001b[0m\u001b[0;34m.\u001b[0m\u001b[0mSFM_WRITE\u001b[0m\u001b[0;34m:\u001b[0m\u001b[0;34m\u001b[0m\u001b[0;34m\u001b[0m\u001b[0m\n",
            "\u001b[0;32m/usr/local/lib/python3.7/dist-packages/soundfile.py\u001b[0m in \u001b[0;36m_error_check\u001b[0;34m(err, prefix)\u001b[0m\n\u001b[1;32m   1356\u001b[0m         \u001b[0merr_str\u001b[0m \u001b[0;34m=\u001b[0m \u001b[0m_snd\u001b[0m\u001b[0;34m.\u001b[0m\u001b[0msf_error_number\u001b[0m\u001b[0;34m(\u001b[0m\u001b[0merr\u001b[0m\u001b[0;34m)\u001b[0m\u001b[0;34m\u001b[0m\u001b[0;34m\u001b[0m\u001b[0m\n\u001b[0;32m-> 1357\u001b[0;31m         \u001b[0;32mraise\u001b[0m \u001b[0mRuntimeError\u001b[0m\u001b[0;34m(\u001b[0m\u001b[0mprefix\u001b[0m \u001b[0;34m+\u001b[0m \u001b[0m_ffi\u001b[0m\u001b[0;34m.\u001b[0m\u001b[0mstring\u001b[0m\u001b[0;34m(\u001b[0m\u001b[0merr_str\u001b[0m\u001b[0;34m)\u001b[0m\u001b[0;34m.\u001b[0m\u001b[0mdecode\u001b[0m\u001b[0;34m(\u001b[0m\u001b[0;34m'utf-8'\u001b[0m\u001b[0;34m,\u001b[0m \u001b[0;34m'replace'\u001b[0m\u001b[0;34m)\u001b[0m\u001b[0;34m)\u001b[0m\u001b[0;34m\u001b[0m\u001b[0;34m\u001b[0m\u001b[0m\n\u001b[0m\u001b[1;32m   1358\u001b[0m \u001b[0;34m\u001b[0m\u001b[0m\n",
            "\u001b[0;31mRuntimeError\u001b[0m: Error opening '/content/drive//My Drive/_sound//_magnatagatune//dataset_magna-tag-a-tune/4/norine_braun-modern_anguish-01-modern_anguish-204-233.mp3': File contains data in an unknown format.",
            "\nDuring handling of the above exception, another exception occurred:\n",
            "\u001b[0;31mEOFError\u001b[0m                                  Traceback (most recent call last)",
            "\u001b[0;32m<ipython-input-53-d8bdedc644bf>\u001b[0m in \u001b[0;36m<module>\u001b[0;34m()\u001b[0m\n\u001b[0;32m----> 1\u001b[0;31m \u001b[0mlibrosa\u001b[0m\u001b[0;34m.\u001b[0m\u001b[0mload\u001b[0m\u001b[0;34m(\u001b[0m\u001b[0;34mf'/content/drive//My Drive/_sound//_magnatagatune//dataset_magna-tag-a-tune/4/norine_braun-modern_anguish-01-modern_anguish-204-233.mp3'\u001b[0m\u001b[0;34m)\u001b[0m\u001b[0;34m\u001b[0m\u001b[0;34m\u001b[0m\u001b[0m\n\u001b[0m",
            "\u001b[0;32m/usr/local/lib/python3.7/dist-packages/librosa/core/audio.py\u001b[0m in \u001b[0;36mload\u001b[0;34m(path, sr, mono, offset, duration, dtype, res_type)\u001b[0m\n\u001b[1;32m    164\u001b[0m         \u001b[0;32mif\u001b[0m \u001b[0misinstance\u001b[0m\u001b[0;34m(\u001b[0m\u001b[0mpath\u001b[0m\u001b[0;34m,\u001b[0m \u001b[0;34m(\u001b[0m\u001b[0mstr\u001b[0m\u001b[0;34m,\u001b[0m \u001b[0mpathlib\u001b[0m\u001b[0;34m.\u001b[0m\u001b[0mPurePath\u001b[0m\u001b[0;34m)\u001b[0m\u001b[0;34m)\u001b[0m\u001b[0;34m:\u001b[0m\u001b[0;34m\u001b[0m\u001b[0;34m\u001b[0m\u001b[0m\n\u001b[1;32m    165\u001b[0m             \u001b[0mwarnings\u001b[0m\u001b[0;34m.\u001b[0m\u001b[0mwarn\u001b[0m\u001b[0;34m(\u001b[0m\u001b[0;34m\"PySoundFile failed. Trying audioread instead.\"\u001b[0m\u001b[0;34m)\u001b[0m\u001b[0;34m\u001b[0m\u001b[0;34m\u001b[0m\u001b[0m\n\u001b[0;32m--> 166\u001b[0;31m             \u001b[0my\u001b[0m\u001b[0;34m,\u001b[0m \u001b[0msr_native\u001b[0m \u001b[0;34m=\u001b[0m \u001b[0m__audioread_load\u001b[0m\u001b[0;34m(\u001b[0m\u001b[0mpath\u001b[0m\u001b[0;34m,\u001b[0m \u001b[0moffset\u001b[0m\u001b[0;34m,\u001b[0m \u001b[0mduration\u001b[0m\u001b[0;34m,\u001b[0m \u001b[0mdtype\u001b[0m\u001b[0;34m)\u001b[0m\u001b[0;34m\u001b[0m\u001b[0;34m\u001b[0m\u001b[0m\n\u001b[0m\u001b[1;32m    167\u001b[0m         \u001b[0;32melse\u001b[0m\u001b[0;34m:\u001b[0m\u001b[0;34m\u001b[0m\u001b[0;34m\u001b[0m\u001b[0m\n\u001b[1;32m    168\u001b[0m             \u001b[0;32mraise\u001b[0m \u001b[0;34m(\u001b[0m\u001b[0mexc\u001b[0m\u001b[0;34m)\u001b[0m\u001b[0;34m\u001b[0m\u001b[0;34m\u001b[0m\u001b[0m\n",
            "\u001b[0;32m/usr/local/lib/python3.7/dist-packages/librosa/core/audio.py\u001b[0m in \u001b[0;36m__audioread_load\u001b[0;34m(path, offset, duration, dtype)\u001b[0m\n\u001b[1;32m    188\u001b[0m \u001b[0;34m\u001b[0m\u001b[0m\n\u001b[1;32m    189\u001b[0m     \u001b[0my\u001b[0m \u001b[0;34m=\u001b[0m \u001b[0;34m[\u001b[0m\u001b[0;34m]\u001b[0m\u001b[0;34m\u001b[0m\u001b[0;34m\u001b[0m\u001b[0m\n\u001b[0;32m--> 190\u001b[0;31m     \u001b[0;32mwith\u001b[0m \u001b[0maudioread\u001b[0m\u001b[0;34m.\u001b[0m\u001b[0maudio_open\u001b[0m\u001b[0;34m(\u001b[0m\u001b[0mpath\u001b[0m\u001b[0;34m)\u001b[0m \u001b[0;32mas\u001b[0m \u001b[0minput_file\u001b[0m\u001b[0;34m:\u001b[0m\u001b[0;34m\u001b[0m\u001b[0;34m\u001b[0m\u001b[0m\n\u001b[0m\u001b[1;32m    191\u001b[0m         \u001b[0msr_native\u001b[0m \u001b[0;34m=\u001b[0m \u001b[0minput_file\u001b[0m\u001b[0;34m.\u001b[0m\u001b[0msamplerate\u001b[0m\u001b[0;34m\u001b[0m\u001b[0;34m\u001b[0m\u001b[0m\n\u001b[1;32m    192\u001b[0m         \u001b[0mn_channels\u001b[0m \u001b[0;34m=\u001b[0m \u001b[0minput_file\u001b[0m\u001b[0;34m.\u001b[0m\u001b[0mchannels\u001b[0m\u001b[0;34m\u001b[0m\u001b[0;34m\u001b[0m\u001b[0m\n",
            "\u001b[0;32m/usr/local/lib/python3.7/dist-packages/audioread/__init__.py\u001b[0m in \u001b[0;36maudio_open\u001b[0;34m(path, backends)\u001b[0m\n\u001b[1;32m    109\u001b[0m     \u001b[0;32mfor\u001b[0m \u001b[0mBackendClass\u001b[0m \u001b[0;32min\u001b[0m \u001b[0mbackends\u001b[0m\u001b[0;34m:\u001b[0m\u001b[0;34m\u001b[0m\u001b[0;34m\u001b[0m\u001b[0m\n\u001b[1;32m    110\u001b[0m         \u001b[0;32mtry\u001b[0m\u001b[0;34m:\u001b[0m\u001b[0;34m\u001b[0m\u001b[0;34m\u001b[0m\u001b[0m\n\u001b[0;32m--> 111\u001b[0;31m             \u001b[0;32mreturn\u001b[0m \u001b[0mBackendClass\u001b[0m\u001b[0;34m(\u001b[0m\u001b[0mpath\u001b[0m\u001b[0;34m)\u001b[0m\u001b[0;34m\u001b[0m\u001b[0;34m\u001b[0m\u001b[0m\n\u001b[0m\u001b[1;32m    112\u001b[0m         \u001b[0;32mexcept\u001b[0m \u001b[0mDecodeError\u001b[0m\u001b[0;34m:\u001b[0m\u001b[0;34m\u001b[0m\u001b[0;34m\u001b[0m\u001b[0m\n\u001b[1;32m    113\u001b[0m             \u001b[0;32mpass\u001b[0m\u001b[0;34m\u001b[0m\u001b[0;34m\u001b[0m\u001b[0m\n",
            "\u001b[0;32m/usr/local/lib/python3.7/dist-packages/audioread/rawread.py\u001b[0m in \u001b[0;36m__init__\u001b[0;34m(self, filename)\u001b[0m\n\u001b[1;32m     63\u001b[0m \u001b[0;34m\u001b[0m\u001b[0m\n\u001b[1;32m     64\u001b[0m         \u001b[0;32mtry\u001b[0m\u001b[0;34m:\u001b[0m\u001b[0;34m\u001b[0m\u001b[0;34m\u001b[0m\u001b[0m\n\u001b[0;32m---> 65\u001b[0;31m             \u001b[0mself\u001b[0m\u001b[0;34m.\u001b[0m\u001b[0m_file\u001b[0m \u001b[0;34m=\u001b[0m \u001b[0maifc\u001b[0m\u001b[0;34m.\u001b[0m\u001b[0mopen\u001b[0m\u001b[0;34m(\u001b[0m\u001b[0mself\u001b[0m\u001b[0;34m.\u001b[0m\u001b[0m_fh\u001b[0m\u001b[0;34m)\u001b[0m\u001b[0;34m\u001b[0m\u001b[0;34m\u001b[0m\u001b[0m\n\u001b[0m\u001b[1;32m     66\u001b[0m         \u001b[0;32mexcept\u001b[0m \u001b[0maifc\u001b[0m\u001b[0;34m.\u001b[0m\u001b[0mError\u001b[0m\u001b[0;34m:\u001b[0m\u001b[0;34m\u001b[0m\u001b[0;34m\u001b[0m\u001b[0m\n\u001b[1;32m     67\u001b[0m             \u001b[0;31m# Return to the beginning of the file to try the next reader.\u001b[0m\u001b[0;34m\u001b[0m\u001b[0;34m\u001b[0m\u001b[0;34m\u001b[0m\u001b[0m\n",
            "\u001b[0;32m/usr/lib/python3.7/aifc.py\u001b[0m in \u001b[0;36mopen\u001b[0;34m(f, mode)\u001b[0m\n\u001b[1;32m    915\u001b[0m             \u001b[0mmode\u001b[0m \u001b[0;34m=\u001b[0m \u001b[0;34m'rb'\u001b[0m\u001b[0;34m\u001b[0m\u001b[0;34m\u001b[0m\u001b[0m\n\u001b[1;32m    916\u001b[0m     \u001b[0;32mif\u001b[0m \u001b[0mmode\u001b[0m \u001b[0;32min\u001b[0m \u001b[0;34m(\u001b[0m\u001b[0;34m'r'\u001b[0m\u001b[0;34m,\u001b[0m \u001b[0;34m'rb'\u001b[0m\u001b[0;34m)\u001b[0m\u001b[0;34m:\u001b[0m\u001b[0;34m\u001b[0m\u001b[0;34m\u001b[0m\u001b[0m\n\u001b[0;32m--> 917\u001b[0;31m         \u001b[0;32mreturn\u001b[0m \u001b[0mAifc_read\u001b[0m\u001b[0;34m(\u001b[0m\u001b[0mf\u001b[0m\u001b[0;34m)\u001b[0m\u001b[0;34m\u001b[0m\u001b[0;34m\u001b[0m\u001b[0m\n\u001b[0m\u001b[1;32m    918\u001b[0m     \u001b[0;32melif\u001b[0m \u001b[0mmode\u001b[0m \u001b[0;32min\u001b[0m \u001b[0;34m(\u001b[0m\u001b[0;34m'w'\u001b[0m\u001b[0;34m,\u001b[0m \u001b[0;34m'wb'\u001b[0m\u001b[0;34m)\u001b[0m\u001b[0;34m:\u001b[0m\u001b[0;34m\u001b[0m\u001b[0;34m\u001b[0m\u001b[0m\n\u001b[1;32m    919\u001b[0m         \u001b[0;32mreturn\u001b[0m \u001b[0mAifc_write\u001b[0m\u001b[0;34m(\u001b[0m\u001b[0mf\u001b[0m\u001b[0;34m)\u001b[0m\u001b[0;34m\u001b[0m\u001b[0;34m\u001b[0m\u001b[0m\n",
            "\u001b[0;32m/usr/lib/python3.7/aifc.py\u001b[0m in \u001b[0;36m__init__\u001b[0;34m(self, f)\u001b[0m\n\u001b[1;32m    356\u001b[0m         \u001b[0;32melse\u001b[0m\u001b[0;34m:\u001b[0m\u001b[0;34m\u001b[0m\u001b[0;34m\u001b[0m\u001b[0m\n\u001b[1;32m    357\u001b[0m             \u001b[0;31m# assume it is an open file object already\u001b[0m\u001b[0;34m\u001b[0m\u001b[0;34m\u001b[0m\u001b[0;34m\u001b[0m\u001b[0m\n\u001b[0;32m--> 358\u001b[0;31m             \u001b[0mself\u001b[0m\u001b[0;34m.\u001b[0m\u001b[0minitfp\u001b[0m\u001b[0;34m(\u001b[0m\u001b[0mf\u001b[0m\u001b[0;34m)\u001b[0m\u001b[0;34m\u001b[0m\u001b[0;34m\u001b[0m\u001b[0m\n\u001b[0m\u001b[1;32m    359\u001b[0m \u001b[0;34m\u001b[0m\u001b[0m\n\u001b[1;32m    360\u001b[0m     \u001b[0;32mdef\u001b[0m \u001b[0m__enter__\u001b[0m\u001b[0;34m(\u001b[0m\u001b[0mself\u001b[0m\u001b[0;34m)\u001b[0m\u001b[0;34m:\u001b[0m\u001b[0;34m\u001b[0m\u001b[0;34m\u001b[0m\u001b[0m\n",
            "\u001b[0;32m/usr/lib/python3.7/aifc.py\u001b[0m in \u001b[0;36minitfp\u001b[0;34m(self, file)\u001b[0m\n\u001b[1;32m    312\u001b[0m         \u001b[0mself\u001b[0m\u001b[0;34m.\u001b[0m\u001b[0m_soundpos\u001b[0m \u001b[0;34m=\u001b[0m \u001b[0;36m0\u001b[0m\u001b[0;34m\u001b[0m\u001b[0;34m\u001b[0m\u001b[0m\n\u001b[1;32m    313\u001b[0m         \u001b[0mself\u001b[0m\u001b[0;34m.\u001b[0m\u001b[0m_file\u001b[0m \u001b[0;34m=\u001b[0m \u001b[0mfile\u001b[0m\u001b[0;34m\u001b[0m\u001b[0;34m\u001b[0m\u001b[0m\n\u001b[0;32m--> 314\u001b[0;31m         \u001b[0mchunk\u001b[0m \u001b[0;34m=\u001b[0m \u001b[0mChunk\u001b[0m\u001b[0;34m(\u001b[0m\u001b[0mfile\u001b[0m\u001b[0;34m)\u001b[0m\u001b[0;34m\u001b[0m\u001b[0;34m\u001b[0m\u001b[0m\n\u001b[0m\u001b[1;32m    315\u001b[0m         \u001b[0;32mif\u001b[0m \u001b[0mchunk\u001b[0m\u001b[0;34m.\u001b[0m\u001b[0mgetname\u001b[0m\u001b[0;34m(\u001b[0m\u001b[0;34m)\u001b[0m \u001b[0;34m!=\u001b[0m \u001b[0;34mb'FORM'\u001b[0m\u001b[0;34m:\u001b[0m\u001b[0;34m\u001b[0m\u001b[0;34m\u001b[0m\u001b[0m\n\u001b[1;32m    316\u001b[0m             \u001b[0;32mraise\u001b[0m \u001b[0mError\u001b[0m\u001b[0;34m(\u001b[0m\u001b[0;34m'file does not start with FORM id'\u001b[0m\u001b[0;34m)\u001b[0m\u001b[0;34m\u001b[0m\u001b[0;34m\u001b[0m\u001b[0m\n",
            "\u001b[0;32m/usr/lib/python3.7/chunk.py\u001b[0m in \u001b[0;36m__init__\u001b[0;34m(self, file, align, bigendian, inclheader)\u001b[0m\n\u001b[1;32m     61\u001b[0m         \u001b[0mself\u001b[0m\u001b[0;34m.\u001b[0m\u001b[0mchunkname\u001b[0m \u001b[0;34m=\u001b[0m \u001b[0mfile\u001b[0m\u001b[0;34m.\u001b[0m\u001b[0mread\u001b[0m\u001b[0;34m(\u001b[0m\u001b[0;36m4\u001b[0m\u001b[0;34m)\u001b[0m\u001b[0;34m\u001b[0m\u001b[0;34m\u001b[0m\u001b[0m\n\u001b[1;32m     62\u001b[0m         \u001b[0;32mif\u001b[0m \u001b[0mlen\u001b[0m\u001b[0;34m(\u001b[0m\u001b[0mself\u001b[0m\u001b[0;34m.\u001b[0m\u001b[0mchunkname\u001b[0m\u001b[0;34m)\u001b[0m \u001b[0;34m<\u001b[0m \u001b[0;36m4\u001b[0m\u001b[0;34m:\u001b[0m\u001b[0;34m\u001b[0m\u001b[0;34m\u001b[0m\u001b[0m\n\u001b[0;32m---> 63\u001b[0;31m             \u001b[0;32mraise\u001b[0m \u001b[0mEOFError\u001b[0m\u001b[0;34m\u001b[0m\u001b[0;34m\u001b[0m\u001b[0m\n\u001b[0m\u001b[1;32m     64\u001b[0m         \u001b[0;32mtry\u001b[0m\u001b[0;34m:\u001b[0m\u001b[0;34m\u001b[0m\u001b[0;34m\u001b[0m\u001b[0m\n\u001b[1;32m     65\u001b[0m             \u001b[0mself\u001b[0m\u001b[0;34m.\u001b[0m\u001b[0mchunksize\u001b[0m \u001b[0;34m=\u001b[0m \u001b[0mstruct\u001b[0m\u001b[0;34m.\u001b[0m\u001b[0munpack_from\u001b[0m\u001b[0;34m(\u001b[0m\u001b[0mstrflag\u001b[0m\u001b[0;34m+\u001b[0m\u001b[0;34m'L'\u001b[0m\u001b[0;34m,\u001b[0m \u001b[0mfile\u001b[0m\u001b[0;34m.\u001b[0m\u001b[0mread\u001b[0m\u001b[0;34m(\u001b[0m\u001b[0;36m4\u001b[0m\u001b[0;34m)\u001b[0m\u001b[0;34m)\u001b[0m\u001b[0;34m[\u001b[0m\u001b[0;36m0\u001b[0m\u001b[0;34m]\u001b[0m\u001b[0;34m\u001b[0m\u001b[0;34m\u001b[0m\u001b[0m\n",
            "\u001b[0;31mEOFError\u001b[0m: "
          ]
        }
      ]
    },
    {
      "cell_type": "code",
      "source": [
        "print(DIR + dataset_subDIR + dataset_l[900]['mp3_path'])"
      ],
      "metadata": {
        "colab": {
          "base_uri": "https://localhost:8080/"
        },
        "id": "P3ABfccUNZHV",
        "outputId": "ad0d6590-4177-42fb-8200-156ecd188235"
      },
      "execution_count": 21,
      "outputs": [
        {
          "output_type": "stream",
          "name": "stdout",
          "text": [
            "/content/drive//My Drive/_sound//_magnatagatune//dataset_magna-tag-a-tune/c/jay_kishor-cd2_the_sowebo_concert-01-raga_malkauns-0-29.mp3\n"
          ]
        }
      ]
    },
    {
      "cell_type": "markdown",
      "metadata": {
        "id": "irPYruf6jejS"
      },
      "source": [
        "# Patches\n",
        "\n",
        "When we deal with audio files, the audio representations/features is a matrix $W$ which represents the values of the representation/feature (such as spectrum, CQT, MFCC, Chroma, Log-Mel-gram) for each time frame of the audio file.\n",
        "\n",
        "If the analysis is performed with a 20ms hop size, and the total duration of the file is 30s; we therefore have a 1500 vectors; each vector represent the audio representation/feature at a specific time.\n",
        "\n",
        "The matrix $W$ has the size ```(nb_feature, nb_time_frame)```.\n",
        "\n",
        "To process it with a Convolutional Neural Network, we will split this big matrix into a set of small matrices $A_m$ (we name those ```patches```) where each $A_m$ represent a temporal slice of the big-matrix. \n",
        "The size of $A_m$ will be ```(nb_feature, size_of_patch)```.\n",
        "$W$ will then be represented by a set of $A_m$. \n",
        "Each $A_m$ has the same size but represent a slice of the big-matrix starting at a different time $t$.\n",
        "\n",
        "The two parameters we need to define are:\n",
        "- the distance in frames between two successive patch ```patch_hop_frame```\n",
        "- the width of the patch ```patch_halfduration_frame```\n",
        "\n",
        "Given an audio file, the following function compute the start and end position of each patch $A_m$ within $W$."
      ]
    },
    {
      "cell_type": "code",
      "execution_count": 37,
      "metadata": {
        "id": "Q0m2FPAZjejS"
      },
      "outputs": [],
      "source": [
        "def F_slice_into_patches(patch_hop_frame, patch_halfduration_frame, patch_info_l, nb_frame, idx_file, label):\n",
        "    \"\"\"\n",
        "    create structure for storing patch-based slides of the spectrogram\n",
        "    \"\"\"\n",
        "    middle_frame = patch_halfduration_frame\n",
        "    while middle_frame + patch_halfduration_frame < nb_frame:\n",
        "        if do_student:\n",
        "            # --- START CODE HERE\n",
        "            start_frame = middle_frame - patch_halfduration_frame\n",
        "            stop_frame = middle_frame + patch_halfduration_frame\n",
        "            # --- STOP CODE HERE\n",
        "\n",
        "        patch_info_d = {'idx_file': idx_file, \n",
        "                        'start_frame': start_frame, \n",
        "                        'middle_frame': middle_frame, \n",
        "                        'end_frame': stop_frame, \n",
        "                        'target': label}\n",
        "        patch_info_l.append(patch_info_d)\n",
        "\n",
        "        middle_frame += patch_hop_frame\n",
        "    return patch_info_l"
      ]
    },
    {
      "cell_type": "markdown",
      "metadata": {
        "id": "YxV5e4MseBmx"
      },
      "source": [
        "### Test\n",
        "\n",
        "You should get the following output.\n",
        "\n",
        "```\n",
        "[{'end_frame': 64,\n",
        "  'idx_file': 333,\n",
        "  'middle_frame': 32,\n",
        "  'start_frame': 0,\n",
        "  'target': [1, 0, 0, 1, 0]},\n",
        " {'end_frame': 80,\n",
        "  'idx_file': 333,\n",
        "  'middle_frame': 48,\n",
        "  'start_frame': 16,\n",
        "  'target': [1, 0, 0, 1, 0]},\n",
        " {'end_frame': 96,\n",
        "  'idx_file': 333,\n",
        "  'middle_frame': 64,\n",
        "  'start_frame': 32,\n",
        "  'target': [1, 0, 0, 1, 0]}]\n",
        "  ```"
      ]
    },
    {
      "cell_type": "code",
      "execution_count": 38,
      "metadata": {
        "id": "WIrRLXogjejS",
        "colab": {
          "base_uri": "https://localhost:8080/"
        },
        "outputId": "9a09191c-a3d0-4189-c055-fb04e07fc8eb"
      },
      "outputs": [
        {
          "output_type": "stream",
          "name": "stdout",
          "text": [
            "[{'end_frame': 64,\n",
            "  'idx_file': 333,\n",
            "  'middle_frame': 32,\n",
            "  'start_frame': 0,\n",
            "  'target': [1, 0, 0, 1, 0]},\n",
            " {'end_frame': 80,\n",
            "  'idx_file': 333,\n",
            "  'middle_frame': 48,\n",
            "  'start_frame': 16,\n",
            "  'target': [1, 0, 0, 1, 0]},\n",
            " {'end_frame': 96,\n",
            "  'idx_file': 333,\n",
            "  'middle_frame': 64,\n",
            "  'start_frame': 32,\n",
            "  'target': [1, 0, 0, 1, 0]}]\n"
          ]
        }
      ],
      "source": [
        "patch_info_l = F_slice_into_patches(patch_hop_frame=16, patch_halfduration_frame=32, patch_info_l=[], nb_frame=100, idx_file=333, label=[1,0,0, 1, 0])\n",
        "pp.pprint(patch_info_l)"
      ]
    },
    {
      "cell_type": "markdown",
      "metadata": {
        "id": "0QYDUdvYjejT"
      },
      "source": [
        "# Torch dataset\n",
        "During the training of our network, we would like to have batches of data $x^{(i)}, y^{(i)}$ on the fly, without having to take care about where to read it from, how to format it and to check that all data have been processed before moving to the next epoch.\n",
        "\n",
        "Pytorch provides a nice class for this: ``Dataset``.\n",
        "This class has three mandatory methods:\n",
        "- ``__init__``\n",
        "- ``__len__``\n",
        "- ``__getitem__``\n",
        "\n",
        "Let's explain this from the end.\n",
        "We instantiate the class using ``train_set = AudioDataSet(...)``.\n",
        "We define one item of our dataset as one patch.\n",
        "- Therefore ``len(train_set)`` should gives the number of patches of our dataset (which is the number of music tracks multiplied by the number of patches within a track). This is the goal of the ``__len__`` method.\n",
        "- ``train_set[idx_patch]`` should give all the information for a given patch, i.e. $(x^{(i)}, y^{(i)}$ for this patch as well as the audio file and time position it is coming from. This is the goal of the ``__getitem__`` method.\n",
        "- This means that ``__init__`` (the creator of the class) should store all the necessary information to allow ``__len__`` and ``__getitem__``.\n",
        "\n",
        "Note that, in order to allow runing the model faster, we will store a part of the information directly on the GPU. We do so using ``.cuda()``.\n",
        "\n",
        "We also add an option to the class to allow defining a dataset for the training and a dataset for the testing (here we do not split validation and testing).\n"
      ]
    },
    {
      "cell_type": "code",
      "execution_count": 49,
      "metadata": {
        "id": "8-MudEsPjejT"
      },
      "outputs": [],
      "source": [
        "class AudioDataSet(Dataset):\n",
        "    \"\"\"AudioDataSet Dataset\n",
        "    Args:\n",
        "        train (bool, optional)\n",
        "        audio_filename_l: list of audio files\n",
        "        labelname_l: list of label names\n",
        "    Attributes:\n",
        "        - audio_filename_l: list of audio files\n",
        "        - labelname_dict_l: list of the terms used for the labels\n",
        "        - patch_info_l: list of dictionaries containing patches information\n",
        "            'idx_file': identifier of the file used for this patch (reference to audio_filename_l)\n",
        "            'start_frame': starting frame of the patch in the audio file\n",
        "            'middle_frame': middle frame of the patch in the audio file\n",
        "            'end_frame': end frame of the patch in the audio file\n",
        "            'target': identifier of the target used for this patch (reference to labelname_dict_l)\n",
        "    \"\"\"\n",
        "\n",
        "    audio_filename_l = []\n",
        "    labelname_dict_l = []\n",
        "    patch_info_l = []\n",
        "    data_d = {}\n",
        "\n",
        "    def __init__(self, train, dataset_l, labelname_dict_l):\n",
        "        \"\"\"\n",
        "        \"\"\"\n",
        "        \n",
        "        self.labelname_dict_l = labelname_dict_l\n",
        "        \n",
        "        # --- split into train and test\n",
        "        if train: dataset_l = [dataset_l[idx] for idx in range(len(dataset_l)) if idx % 10 != 0]\n",
        "        else: dataset_l = [dataset_l[idx] for idx in range(len(dataset_l)) if idx % 10 == 0]\n",
        "        \n",
        "        self.audio_filename_l = [DIR + dataset_subDIR + data['mp3_path'] for data in dataset_l]\n",
        "        \n",
        "        self.patch_info_l = []\n",
        "        self.data_d = {}\n",
        "        \n",
        "        if do_student:\n",
        "            # --- START CODE HERE\n",
        "            for idx_file in tqdm(range(len(self.audio_filename_l))):\n",
        "                label = dataset_l[idx_file]['target']\n",
        "                data_m, time_sec_v = F_get_audio_features(self.audio_filename_l[idx_file], \"\")\n",
        "                nb_frame = data_m.shape[1]\n",
        "                self.patch_info_l = F_slice_into_patches(patch_hop_frame, patch_halfduration_frame, self.patch_info_l, nb_frame, idx_file, label)\n",
        "                self.data_d[self.audio_filename_l[idx_file]] = {'data_m': torch.from_numpy(data_m).float().cuda(), 'time_sec_v': time_sec_v}\n",
        "            # --- STOP CODE HERE\n",
        "\n",
        "\n",
        "    def __len__(self):\n",
        "        \"\"\"\n",
        "        \"\"\"\n",
        "        return len(self.patch_info_l)\n",
        "\n",
        "\n",
        "\n",
        "    def __getitem__(self, idx_patch):\n",
        "        \"\"\"\n",
        "        return sample['idx_file','middle_frame','target','data']\n",
        "        \"\"\"\n",
        "        audio_filename = self.audio_filename_l[ self.patch_info_l[idx_patch]['idx_file'] ]\n",
        "        # --- Optimize: get directly from GPU\n",
        "        data_m, time_sec_v = self.data_d[audio_filename]['data_m'], self.data_d[audio_filename]['time_sec_v']\n",
        "        STEP_sec = np.mean(np.diff(time_sec_v))\n",
        "        # --- get the patch\n",
        "        data_m = data_m[:, self.patch_info_l[idx_patch]['start_frame']:self.patch_info_l[idx_patch]['end_frame']]\n",
        "        \n",
        "        # --- create output structure\n",
        "        sample = {'idx_file': self.patch_info_l[idx_patch]['idx_file'],\n",
        "                  'middle_frame': self.patch_info_l[idx_patch]['middle_frame'],\n",
        "                  'target': self.patch_info_l[idx_patch]['target'],\n",
        "                  'data': data_m,\n",
        "                  'STEP_sec': STEP_sec\n",
        "                  }\n",
        "        return sample"
      ]
    },
    {
      "cell_type": "markdown",
      "metadata": {
        "id": "th_XfjxM5Vtx"
      },
      "source": [
        "Using this class, we instantiate a ``train_set`` and a ``test_set``."
      ]
    },
    {
      "cell_type": "code",
      "source": [
        "print(len(dataset_l))\n",
        "print(len(labelname_dict_l))"
      ],
      "metadata": {
        "colab": {
          "base_uri": "https://localhost:8080/"
        },
        "id": "Qxw2W0-4VFVi",
        "outputId": "0e512dab-3f8a-4b88-a52c-ee3fdd4ee6e9"
      },
      "execution_count": 44,
      "outputs": [
        {
          "output_type": "stream",
          "name": "stdout",
          "text": [
            "1000\n",
            "12\n"
          ]
        }
      ]
    },
    {
      "cell_type": "code",
      "source": [
        "print(labelname_dict_l)"
      ],
      "metadata": {
        "colab": {
          "base_uri": "https://localhost:8080/"
        },
        "id": "Sx20-3QEVY8f",
        "outputId": "5495cee2-47e4-427f-ec71-4322cee65c07"
      },
      "execution_count": 45,
      "outputs": [
        {
          "output_type": "stream",
          "name": "stdout",
          "text": [
            "['guitar', 'string', 'synth', 'drum', 'violin', 'piano', 'female', 'male', 'sitar', 'flute', 'harpsichord', 'harp']\n"
          ]
        }
      ]
    },
    {
      "cell_type": "code",
      "source": [
        "print(dataset_l[0])"
      ],
      "metadata": {
        "colab": {
          "base_uri": "https://localhost:8080/"
        },
        "id": "VTbT6oeNVk16",
        "outputId": "dfd7ade1-b1b1-416a-fb4e-b13fb4c0c9a4"
      },
      "execution_count": 47,
      "outputs": [
        {
          "output_type": "stream",
          "name": "stdout",
          "text": [
            "{'clip_id': 2, 'track_number': 1, 'title': 'BWV54 - I Aria', 'artist': 'American Bach Soloists', 'album': 'J.S. Bach Solo Cantatas', 'url': 'http://www.magnatune.com/artists/albums/abs-solocantatas/', 'segmentStart': 30, 'segmentEnd': 59, 'original_url': 'http://he3.magnatune.com/all/01--BWV54%20-%20I%20Aria--ABS.mp3', 'mp3_path': 'f/american_bach_soloists-j_s__bach_solo_cantatas-01-bwv54__i_aria-30-59.mp3', 'tag': ['classical', 'string', 'opera', 'violin'], 'target': array([0., 1., 0., 0., 1., 0., 0., 0., 0., 0., 0., 0.])}\n"
          ]
        }
      ]
    },
    {
      "cell_type": "code",
      "execution_count": 50,
      "metadata": {
        "id": "E4JgSU6jjejT",
        "colab": {
          "base_uri": "https://localhost:8080/",
          "height": 1000
        },
        "outputId": "d938042c-76e6-42c5-cc4e-a2f316d1f7c5"
      },
      "outputs": [
        {
          "output_type": "stream",
          "name": "stderr",
          "text": [
            " 73%|███████▎  | 654/900 [15:02<05:39,  1.38s/it]\n"
          ]
        },
        {
          "output_type": "error",
          "ename": "EOFError",
          "evalue": "ignored",
          "traceback": [
            "\u001b[0;31m---------------------------------------------------------------------------\u001b[0m",
            "\u001b[0;31mRuntimeError\u001b[0m                              Traceback (most recent call last)",
            "\u001b[0;32m/usr/local/lib/python3.7/dist-packages/librosa/core/audio.py\u001b[0m in \u001b[0;36mload\u001b[0;34m(path, sr, mono, offset, duration, dtype, res_type)\u001b[0m\n\u001b[1;32m    148\u001b[0m     \u001b[0;32mtry\u001b[0m\u001b[0;34m:\u001b[0m\u001b[0;34m\u001b[0m\u001b[0;34m\u001b[0m\u001b[0m\n\u001b[0;32m--> 149\u001b[0;31m         \u001b[0;32mwith\u001b[0m \u001b[0msf\u001b[0m\u001b[0;34m.\u001b[0m\u001b[0mSoundFile\u001b[0m\u001b[0;34m(\u001b[0m\u001b[0mpath\u001b[0m\u001b[0;34m)\u001b[0m \u001b[0;32mas\u001b[0m \u001b[0msf_desc\u001b[0m\u001b[0;34m:\u001b[0m\u001b[0;34m\u001b[0m\u001b[0;34m\u001b[0m\u001b[0m\n\u001b[0m\u001b[1;32m    150\u001b[0m             \u001b[0msr_native\u001b[0m \u001b[0;34m=\u001b[0m \u001b[0msf_desc\u001b[0m\u001b[0;34m.\u001b[0m\u001b[0msamplerate\u001b[0m\u001b[0;34m\u001b[0m\u001b[0;34m\u001b[0m\u001b[0m\n",
            "\u001b[0;32m/usr/local/lib/python3.7/dist-packages/soundfile.py\u001b[0m in \u001b[0;36m__init__\u001b[0;34m(self, file, mode, samplerate, channels, subtype, endian, format, closefd)\u001b[0m\n\u001b[1;32m    628\u001b[0m                                          format, subtype, endian)\n\u001b[0;32m--> 629\u001b[0;31m         \u001b[0mself\u001b[0m\u001b[0;34m.\u001b[0m\u001b[0m_file\u001b[0m \u001b[0;34m=\u001b[0m \u001b[0mself\u001b[0m\u001b[0;34m.\u001b[0m\u001b[0m_open\u001b[0m\u001b[0;34m(\u001b[0m\u001b[0mfile\u001b[0m\u001b[0;34m,\u001b[0m \u001b[0mmode_int\u001b[0m\u001b[0;34m,\u001b[0m \u001b[0mclosefd\u001b[0m\u001b[0;34m)\u001b[0m\u001b[0;34m\u001b[0m\u001b[0;34m\u001b[0m\u001b[0m\n\u001b[0m\u001b[1;32m    630\u001b[0m         \u001b[0;32mif\u001b[0m \u001b[0mset\u001b[0m\u001b[0;34m(\u001b[0m\u001b[0mmode\u001b[0m\u001b[0;34m)\u001b[0m\u001b[0;34m.\u001b[0m\u001b[0missuperset\u001b[0m\u001b[0;34m(\u001b[0m\u001b[0;34m'r+'\u001b[0m\u001b[0;34m)\u001b[0m \u001b[0;32mand\u001b[0m \u001b[0mself\u001b[0m\u001b[0;34m.\u001b[0m\u001b[0mseekable\u001b[0m\u001b[0;34m(\u001b[0m\u001b[0;34m)\u001b[0m\u001b[0;34m:\u001b[0m\u001b[0;34m\u001b[0m\u001b[0;34m\u001b[0m\u001b[0m\n",
            "\u001b[0;32m/usr/local/lib/python3.7/dist-packages/soundfile.py\u001b[0m in \u001b[0;36m_open\u001b[0;34m(self, file, mode_int, closefd)\u001b[0m\n\u001b[1;32m   1183\u001b[0m         _error_check(_snd.sf_error(file_ptr),\n\u001b[0;32m-> 1184\u001b[0;31m                      \"Error opening {0!r}: \".format(self.name))\n\u001b[0m\u001b[1;32m   1185\u001b[0m         \u001b[0;32mif\u001b[0m \u001b[0mmode_int\u001b[0m \u001b[0;34m==\u001b[0m \u001b[0m_snd\u001b[0m\u001b[0;34m.\u001b[0m\u001b[0mSFM_WRITE\u001b[0m\u001b[0;34m:\u001b[0m\u001b[0;34m\u001b[0m\u001b[0;34m\u001b[0m\u001b[0m\n",
            "\u001b[0;32m/usr/local/lib/python3.7/dist-packages/soundfile.py\u001b[0m in \u001b[0;36m_error_check\u001b[0;34m(err, prefix)\u001b[0m\n\u001b[1;32m   1356\u001b[0m         \u001b[0merr_str\u001b[0m \u001b[0;34m=\u001b[0m \u001b[0m_snd\u001b[0m\u001b[0;34m.\u001b[0m\u001b[0msf_error_number\u001b[0m\u001b[0;34m(\u001b[0m\u001b[0merr\u001b[0m\u001b[0;34m)\u001b[0m\u001b[0;34m\u001b[0m\u001b[0;34m\u001b[0m\u001b[0m\n\u001b[0;32m-> 1357\u001b[0;31m         \u001b[0;32mraise\u001b[0m \u001b[0mRuntimeError\u001b[0m\u001b[0;34m(\u001b[0m\u001b[0mprefix\u001b[0m \u001b[0;34m+\u001b[0m \u001b[0m_ffi\u001b[0m\u001b[0;34m.\u001b[0m\u001b[0mstring\u001b[0m\u001b[0;34m(\u001b[0m\u001b[0merr_str\u001b[0m\u001b[0;34m)\u001b[0m\u001b[0;34m.\u001b[0m\u001b[0mdecode\u001b[0m\u001b[0;34m(\u001b[0m\u001b[0;34m'utf-8'\u001b[0m\u001b[0;34m,\u001b[0m \u001b[0;34m'replace'\u001b[0m\u001b[0;34m)\u001b[0m\u001b[0;34m)\u001b[0m\u001b[0;34m\u001b[0m\u001b[0;34m\u001b[0m\u001b[0m\n\u001b[0m\u001b[1;32m   1358\u001b[0m \u001b[0;34m\u001b[0m\u001b[0m\n",
            "\u001b[0;31mRuntimeError\u001b[0m: Error opening '/content/drive//My Drive/_sound//_magnatagatune//dataset_magna-tag-a-tune/4/norine_braun-modern_anguish-01-modern_anguish-204-233.mp3': File contains data in an unknown format.",
            "\nDuring handling of the above exception, another exception occurred:\n",
            "\u001b[0;31mEOFError\u001b[0m                                  Traceback (most recent call last)",
            "\u001b[0;32m<ipython-input-50-9071f98b2a29>\u001b[0m in \u001b[0;36m<module>\u001b[0;34m()\u001b[0m\n\u001b[0;32m----> 1\u001b[0;31m \u001b[0mtrain_set\u001b[0m \u001b[0;34m=\u001b[0m \u001b[0mAudioDataSet\u001b[0m\u001b[0;34m(\u001b[0m\u001b[0mtrain\u001b[0m\u001b[0;34m=\u001b[0m\u001b[0;32mTrue\u001b[0m\u001b[0;34m,\u001b[0m \u001b[0mdataset_l\u001b[0m\u001b[0;34m=\u001b[0m\u001b[0mdataset_l\u001b[0m\u001b[0;34m,\u001b[0m \u001b[0mlabelname_dict_l\u001b[0m\u001b[0;34m=\u001b[0m\u001b[0mlabelname_dict_l\u001b[0m\u001b[0;34m)\u001b[0m\u001b[0;34m\u001b[0m\u001b[0;34m\u001b[0m\u001b[0m\n\u001b[0m\u001b[1;32m      2\u001b[0m \u001b[0mtest_set\u001b[0m \u001b[0;34m=\u001b[0m \u001b[0mAudioDataSet\u001b[0m\u001b[0;34m(\u001b[0m\u001b[0mtrain\u001b[0m\u001b[0;34m=\u001b[0m\u001b[0;32mFalse\u001b[0m\u001b[0;34m,\u001b[0m \u001b[0mdataset_l\u001b[0m\u001b[0;34m=\u001b[0m\u001b[0mdataset_l\u001b[0m\u001b[0;34m,\u001b[0m \u001b[0mlabelname_dict_l\u001b[0m\u001b[0;34m=\u001b[0m\u001b[0mlabelname_dict_l\u001b[0m\u001b[0;34m)\u001b[0m\u001b[0;34m\u001b[0m\u001b[0;34m\u001b[0m\u001b[0m\n",
            "\u001b[0;32m<ipython-input-49-88daf6ee7e64>\u001b[0m in \u001b[0;36m__init__\u001b[0;34m(self, train, dataset_l, labelname_dict_l)\u001b[0m\n\u001b[1;32m     40\u001b[0m             \u001b[0;32mfor\u001b[0m \u001b[0midx_file\u001b[0m \u001b[0;32min\u001b[0m \u001b[0mtqdm\u001b[0m\u001b[0;34m(\u001b[0m\u001b[0mrange\u001b[0m\u001b[0;34m(\u001b[0m\u001b[0mlen\u001b[0m\u001b[0;34m(\u001b[0m\u001b[0mself\u001b[0m\u001b[0;34m.\u001b[0m\u001b[0maudio_filename_l\u001b[0m\u001b[0;34m)\u001b[0m\u001b[0;34m)\u001b[0m\u001b[0;34m)\u001b[0m\u001b[0;34m:\u001b[0m\u001b[0;34m\u001b[0m\u001b[0;34m\u001b[0m\u001b[0m\n\u001b[1;32m     41\u001b[0m                 \u001b[0mlabel\u001b[0m \u001b[0;34m=\u001b[0m \u001b[0mdataset_l\u001b[0m\u001b[0;34m[\u001b[0m\u001b[0midx_file\u001b[0m\u001b[0;34m]\u001b[0m\u001b[0;34m[\u001b[0m\u001b[0;34m'target'\u001b[0m\u001b[0;34m]\u001b[0m\u001b[0;34m\u001b[0m\u001b[0;34m\u001b[0m\u001b[0m\n\u001b[0;32m---> 42\u001b[0;31m                 \u001b[0mdata_m\u001b[0m\u001b[0;34m,\u001b[0m \u001b[0mtime_sec_v\u001b[0m \u001b[0;34m=\u001b[0m \u001b[0mF_get_audio_features\u001b[0m\u001b[0;34m(\u001b[0m\u001b[0mself\u001b[0m\u001b[0;34m.\u001b[0m\u001b[0maudio_filename_l\u001b[0m\u001b[0;34m[\u001b[0m\u001b[0midx_file\u001b[0m\u001b[0;34m]\u001b[0m\u001b[0;34m,\u001b[0m \u001b[0;34m\"\"\u001b[0m\u001b[0;34m)\u001b[0m\u001b[0;34m\u001b[0m\u001b[0;34m\u001b[0m\u001b[0m\n\u001b[0m\u001b[1;32m     43\u001b[0m                 \u001b[0mnb_frame\u001b[0m \u001b[0;34m=\u001b[0m \u001b[0mdata_m\u001b[0m\u001b[0;34m.\u001b[0m\u001b[0mshape\u001b[0m\u001b[0;34m[\u001b[0m\u001b[0;36m1\u001b[0m\u001b[0;34m]\u001b[0m\u001b[0;34m\u001b[0m\u001b[0;34m\u001b[0m\u001b[0m\n\u001b[1;32m     44\u001b[0m                 \u001b[0mself\u001b[0m\u001b[0;34m.\u001b[0m\u001b[0mpatch_info_l\u001b[0m \u001b[0;34m=\u001b[0m \u001b[0mF_slice_into_patches\u001b[0m\u001b[0;34m(\u001b[0m\u001b[0mpatch_hop_frame\u001b[0m\u001b[0;34m,\u001b[0m \u001b[0mpatch_halfduration_frame\u001b[0m\u001b[0;34m,\u001b[0m \u001b[0mself\u001b[0m\u001b[0;34m.\u001b[0m\u001b[0mpatch_info_l\u001b[0m\u001b[0;34m,\u001b[0m \u001b[0mnb_frame\u001b[0m\u001b[0;34m,\u001b[0m \u001b[0midx_file\u001b[0m\u001b[0;34m,\u001b[0m \u001b[0mlabel\u001b[0m\u001b[0;34m)\u001b[0m\u001b[0;34m\u001b[0m\u001b[0;34m\u001b[0m\u001b[0m\n",
            "\u001b[0;32m<ipython-input-28-6e0310f45242>\u001b[0m in \u001b[0;36mF_get_audio_features\u001b[0;34m(audio_filename, data_ext)\u001b[0m\n\u001b[1;32m     19\u001b[0m         \u001b[0;32mif\u001b[0m \u001b[0mdo_student\u001b[0m\u001b[0;34m:\u001b[0m\u001b[0;34m\u001b[0m\u001b[0;34m\u001b[0m\u001b[0m\n\u001b[1;32m     20\u001b[0m             \u001b[0;31m# --- START CODE HERE\u001b[0m\u001b[0;34m\u001b[0m\u001b[0;34m\u001b[0m\u001b[0;34m\u001b[0m\u001b[0m\n\u001b[0;32m---> 21\u001b[0;31m             \u001b[0maudio_v\u001b[0m\u001b[0;34m,\u001b[0m \u001b[0msr_hz\u001b[0m \u001b[0;34m=\u001b[0m \u001b[0mlibrosa\u001b[0m\u001b[0;34m.\u001b[0m\u001b[0mload\u001b[0m\u001b[0;34m(\u001b[0m\u001b[0maudio_filename\u001b[0m\u001b[0;34m)\u001b[0m\u001b[0;34m\u001b[0m\u001b[0;34m\u001b[0m\u001b[0m\n\u001b[0m\u001b[1;32m     22\u001b[0m             \u001b[0mdata_m\u001b[0m \u001b[0;34m=\u001b[0m \u001b[0mlibrosa\u001b[0m\u001b[0;34m.\u001b[0m\u001b[0mfeature\u001b[0m\u001b[0;34m.\u001b[0m\u001b[0mmelspectrogram\u001b[0m\u001b[0;34m(\u001b[0m\u001b[0my\u001b[0m\u001b[0;34m=\u001b[0m\u001b[0maudio_v\u001b[0m\u001b[0;34m,\u001b[0m \u001b[0msr\u001b[0m\u001b[0;34m=\u001b[0m\u001b[0msr_hz\u001b[0m\u001b[0;34m,\u001b[0m \u001b[0mn_fft\u001b[0m\u001b[0;34m=\u001b[0m\u001b[0mL_n\u001b[0m\u001b[0;34m,\u001b[0m \u001b[0mhop_length\u001b[0m\u001b[0;34m=\u001b[0m\u001b[0mSTEP_n\u001b[0m\u001b[0;34m)\u001b[0m\u001b[0;34m\u001b[0m\u001b[0;34m\u001b[0m\u001b[0m\n\u001b[1;32m     23\u001b[0m             \u001b[0;31m#data_m = F_do_standardization(data_m)\u001b[0m\u001b[0;34m\u001b[0m\u001b[0;34m\u001b[0m\u001b[0;34m\u001b[0m\u001b[0m\n",
            "\u001b[0;32m/usr/local/lib/python3.7/dist-packages/librosa/core/audio.py\u001b[0m in \u001b[0;36mload\u001b[0;34m(path, sr, mono, offset, duration, dtype, res_type)\u001b[0m\n\u001b[1;32m    164\u001b[0m         \u001b[0;32mif\u001b[0m \u001b[0misinstance\u001b[0m\u001b[0;34m(\u001b[0m\u001b[0mpath\u001b[0m\u001b[0;34m,\u001b[0m \u001b[0;34m(\u001b[0m\u001b[0mstr\u001b[0m\u001b[0;34m,\u001b[0m \u001b[0mpathlib\u001b[0m\u001b[0;34m.\u001b[0m\u001b[0mPurePath\u001b[0m\u001b[0;34m)\u001b[0m\u001b[0;34m)\u001b[0m\u001b[0;34m:\u001b[0m\u001b[0;34m\u001b[0m\u001b[0;34m\u001b[0m\u001b[0m\n\u001b[1;32m    165\u001b[0m             \u001b[0mwarnings\u001b[0m\u001b[0;34m.\u001b[0m\u001b[0mwarn\u001b[0m\u001b[0;34m(\u001b[0m\u001b[0;34m\"PySoundFile failed. Trying audioread instead.\"\u001b[0m\u001b[0;34m)\u001b[0m\u001b[0;34m\u001b[0m\u001b[0;34m\u001b[0m\u001b[0m\n\u001b[0;32m--> 166\u001b[0;31m             \u001b[0my\u001b[0m\u001b[0;34m,\u001b[0m \u001b[0msr_native\u001b[0m \u001b[0;34m=\u001b[0m \u001b[0m__audioread_load\u001b[0m\u001b[0;34m(\u001b[0m\u001b[0mpath\u001b[0m\u001b[0;34m,\u001b[0m \u001b[0moffset\u001b[0m\u001b[0;34m,\u001b[0m \u001b[0mduration\u001b[0m\u001b[0;34m,\u001b[0m \u001b[0mdtype\u001b[0m\u001b[0;34m)\u001b[0m\u001b[0;34m\u001b[0m\u001b[0;34m\u001b[0m\u001b[0m\n\u001b[0m\u001b[1;32m    167\u001b[0m         \u001b[0;32melse\u001b[0m\u001b[0;34m:\u001b[0m\u001b[0;34m\u001b[0m\u001b[0;34m\u001b[0m\u001b[0m\n\u001b[1;32m    168\u001b[0m             \u001b[0;32mraise\u001b[0m \u001b[0;34m(\u001b[0m\u001b[0mexc\u001b[0m\u001b[0;34m)\u001b[0m\u001b[0;34m\u001b[0m\u001b[0;34m\u001b[0m\u001b[0m\n",
            "\u001b[0;32m/usr/local/lib/python3.7/dist-packages/librosa/core/audio.py\u001b[0m in \u001b[0;36m__audioread_load\u001b[0;34m(path, offset, duration, dtype)\u001b[0m\n\u001b[1;32m    188\u001b[0m \u001b[0;34m\u001b[0m\u001b[0m\n\u001b[1;32m    189\u001b[0m     \u001b[0my\u001b[0m \u001b[0;34m=\u001b[0m \u001b[0;34m[\u001b[0m\u001b[0;34m]\u001b[0m\u001b[0;34m\u001b[0m\u001b[0;34m\u001b[0m\u001b[0m\n\u001b[0;32m--> 190\u001b[0;31m     \u001b[0;32mwith\u001b[0m \u001b[0maudioread\u001b[0m\u001b[0;34m.\u001b[0m\u001b[0maudio_open\u001b[0m\u001b[0;34m(\u001b[0m\u001b[0mpath\u001b[0m\u001b[0;34m)\u001b[0m \u001b[0;32mas\u001b[0m \u001b[0minput_file\u001b[0m\u001b[0;34m:\u001b[0m\u001b[0;34m\u001b[0m\u001b[0;34m\u001b[0m\u001b[0m\n\u001b[0m\u001b[1;32m    191\u001b[0m         \u001b[0msr_native\u001b[0m \u001b[0;34m=\u001b[0m \u001b[0minput_file\u001b[0m\u001b[0;34m.\u001b[0m\u001b[0msamplerate\u001b[0m\u001b[0;34m\u001b[0m\u001b[0;34m\u001b[0m\u001b[0m\n\u001b[1;32m    192\u001b[0m         \u001b[0mn_channels\u001b[0m \u001b[0;34m=\u001b[0m \u001b[0minput_file\u001b[0m\u001b[0;34m.\u001b[0m\u001b[0mchannels\u001b[0m\u001b[0;34m\u001b[0m\u001b[0;34m\u001b[0m\u001b[0m\n",
            "\u001b[0;32m/usr/local/lib/python3.7/dist-packages/audioread/__init__.py\u001b[0m in \u001b[0;36maudio_open\u001b[0;34m(path, backends)\u001b[0m\n\u001b[1;32m    109\u001b[0m     \u001b[0;32mfor\u001b[0m \u001b[0mBackendClass\u001b[0m \u001b[0;32min\u001b[0m \u001b[0mbackends\u001b[0m\u001b[0;34m:\u001b[0m\u001b[0;34m\u001b[0m\u001b[0;34m\u001b[0m\u001b[0m\n\u001b[1;32m    110\u001b[0m         \u001b[0;32mtry\u001b[0m\u001b[0;34m:\u001b[0m\u001b[0;34m\u001b[0m\u001b[0;34m\u001b[0m\u001b[0m\n\u001b[0;32m--> 111\u001b[0;31m             \u001b[0;32mreturn\u001b[0m \u001b[0mBackendClass\u001b[0m\u001b[0;34m(\u001b[0m\u001b[0mpath\u001b[0m\u001b[0;34m)\u001b[0m\u001b[0;34m\u001b[0m\u001b[0;34m\u001b[0m\u001b[0m\n\u001b[0m\u001b[1;32m    112\u001b[0m         \u001b[0;32mexcept\u001b[0m \u001b[0mDecodeError\u001b[0m\u001b[0;34m:\u001b[0m\u001b[0;34m\u001b[0m\u001b[0;34m\u001b[0m\u001b[0m\n\u001b[1;32m    113\u001b[0m             \u001b[0;32mpass\u001b[0m\u001b[0;34m\u001b[0m\u001b[0;34m\u001b[0m\u001b[0m\n",
            "\u001b[0;32m/usr/local/lib/python3.7/dist-packages/audioread/rawread.py\u001b[0m in \u001b[0;36m__init__\u001b[0;34m(self, filename)\u001b[0m\n\u001b[1;32m     63\u001b[0m \u001b[0;34m\u001b[0m\u001b[0m\n\u001b[1;32m     64\u001b[0m         \u001b[0;32mtry\u001b[0m\u001b[0;34m:\u001b[0m\u001b[0;34m\u001b[0m\u001b[0;34m\u001b[0m\u001b[0m\n\u001b[0;32m---> 65\u001b[0;31m             \u001b[0mself\u001b[0m\u001b[0;34m.\u001b[0m\u001b[0m_file\u001b[0m \u001b[0;34m=\u001b[0m \u001b[0maifc\u001b[0m\u001b[0;34m.\u001b[0m\u001b[0mopen\u001b[0m\u001b[0;34m(\u001b[0m\u001b[0mself\u001b[0m\u001b[0;34m.\u001b[0m\u001b[0m_fh\u001b[0m\u001b[0;34m)\u001b[0m\u001b[0;34m\u001b[0m\u001b[0;34m\u001b[0m\u001b[0m\n\u001b[0m\u001b[1;32m     66\u001b[0m         \u001b[0;32mexcept\u001b[0m \u001b[0maifc\u001b[0m\u001b[0;34m.\u001b[0m\u001b[0mError\u001b[0m\u001b[0;34m:\u001b[0m\u001b[0;34m\u001b[0m\u001b[0;34m\u001b[0m\u001b[0m\n\u001b[1;32m     67\u001b[0m             \u001b[0;31m# Return to the beginning of the file to try the next reader.\u001b[0m\u001b[0;34m\u001b[0m\u001b[0;34m\u001b[0m\u001b[0;34m\u001b[0m\u001b[0m\n",
            "\u001b[0;32m/usr/lib/python3.7/aifc.py\u001b[0m in \u001b[0;36mopen\u001b[0;34m(f, mode)\u001b[0m\n\u001b[1;32m    915\u001b[0m             \u001b[0mmode\u001b[0m \u001b[0;34m=\u001b[0m \u001b[0;34m'rb'\u001b[0m\u001b[0;34m\u001b[0m\u001b[0;34m\u001b[0m\u001b[0m\n\u001b[1;32m    916\u001b[0m     \u001b[0;32mif\u001b[0m \u001b[0mmode\u001b[0m \u001b[0;32min\u001b[0m \u001b[0;34m(\u001b[0m\u001b[0;34m'r'\u001b[0m\u001b[0;34m,\u001b[0m \u001b[0;34m'rb'\u001b[0m\u001b[0;34m)\u001b[0m\u001b[0;34m:\u001b[0m\u001b[0;34m\u001b[0m\u001b[0;34m\u001b[0m\u001b[0m\n\u001b[0;32m--> 917\u001b[0;31m         \u001b[0;32mreturn\u001b[0m \u001b[0mAifc_read\u001b[0m\u001b[0;34m(\u001b[0m\u001b[0mf\u001b[0m\u001b[0;34m)\u001b[0m\u001b[0;34m\u001b[0m\u001b[0;34m\u001b[0m\u001b[0m\n\u001b[0m\u001b[1;32m    918\u001b[0m     \u001b[0;32melif\u001b[0m \u001b[0mmode\u001b[0m \u001b[0;32min\u001b[0m \u001b[0;34m(\u001b[0m\u001b[0;34m'w'\u001b[0m\u001b[0;34m,\u001b[0m \u001b[0;34m'wb'\u001b[0m\u001b[0;34m)\u001b[0m\u001b[0;34m:\u001b[0m\u001b[0;34m\u001b[0m\u001b[0;34m\u001b[0m\u001b[0m\n\u001b[1;32m    919\u001b[0m         \u001b[0;32mreturn\u001b[0m \u001b[0mAifc_write\u001b[0m\u001b[0;34m(\u001b[0m\u001b[0mf\u001b[0m\u001b[0;34m)\u001b[0m\u001b[0;34m\u001b[0m\u001b[0;34m\u001b[0m\u001b[0m\n",
            "\u001b[0;32m/usr/lib/python3.7/aifc.py\u001b[0m in \u001b[0;36m__init__\u001b[0;34m(self, f)\u001b[0m\n\u001b[1;32m    356\u001b[0m         \u001b[0;32melse\u001b[0m\u001b[0;34m:\u001b[0m\u001b[0;34m\u001b[0m\u001b[0;34m\u001b[0m\u001b[0m\n\u001b[1;32m    357\u001b[0m             \u001b[0;31m# assume it is an open file object already\u001b[0m\u001b[0;34m\u001b[0m\u001b[0;34m\u001b[0m\u001b[0;34m\u001b[0m\u001b[0m\n\u001b[0;32m--> 358\u001b[0;31m             \u001b[0mself\u001b[0m\u001b[0;34m.\u001b[0m\u001b[0minitfp\u001b[0m\u001b[0;34m(\u001b[0m\u001b[0mf\u001b[0m\u001b[0;34m)\u001b[0m\u001b[0;34m\u001b[0m\u001b[0;34m\u001b[0m\u001b[0m\n\u001b[0m\u001b[1;32m    359\u001b[0m \u001b[0;34m\u001b[0m\u001b[0m\n\u001b[1;32m    360\u001b[0m     \u001b[0;32mdef\u001b[0m \u001b[0m__enter__\u001b[0m\u001b[0;34m(\u001b[0m\u001b[0mself\u001b[0m\u001b[0;34m)\u001b[0m\u001b[0;34m:\u001b[0m\u001b[0;34m\u001b[0m\u001b[0;34m\u001b[0m\u001b[0m\n",
            "\u001b[0;32m/usr/lib/python3.7/aifc.py\u001b[0m in \u001b[0;36minitfp\u001b[0;34m(self, file)\u001b[0m\n\u001b[1;32m    312\u001b[0m         \u001b[0mself\u001b[0m\u001b[0;34m.\u001b[0m\u001b[0m_soundpos\u001b[0m \u001b[0;34m=\u001b[0m \u001b[0;36m0\u001b[0m\u001b[0;34m\u001b[0m\u001b[0;34m\u001b[0m\u001b[0m\n\u001b[1;32m    313\u001b[0m         \u001b[0mself\u001b[0m\u001b[0;34m.\u001b[0m\u001b[0m_file\u001b[0m \u001b[0;34m=\u001b[0m \u001b[0mfile\u001b[0m\u001b[0;34m\u001b[0m\u001b[0;34m\u001b[0m\u001b[0m\n\u001b[0;32m--> 314\u001b[0;31m         \u001b[0mchunk\u001b[0m \u001b[0;34m=\u001b[0m \u001b[0mChunk\u001b[0m\u001b[0;34m(\u001b[0m\u001b[0mfile\u001b[0m\u001b[0;34m)\u001b[0m\u001b[0;34m\u001b[0m\u001b[0;34m\u001b[0m\u001b[0m\n\u001b[0m\u001b[1;32m    315\u001b[0m         \u001b[0;32mif\u001b[0m \u001b[0mchunk\u001b[0m\u001b[0;34m.\u001b[0m\u001b[0mgetname\u001b[0m\u001b[0;34m(\u001b[0m\u001b[0;34m)\u001b[0m \u001b[0;34m!=\u001b[0m \u001b[0;34mb'FORM'\u001b[0m\u001b[0;34m:\u001b[0m\u001b[0;34m\u001b[0m\u001b[0;34m\u001b[0m\u001b[0m\n\u001b[1;32m    316\u001b[0m             \u001b[0;32mraise\u001b[0m \u001b[0mError\u001b[0m\u001b[0;34m(\u001b[0m\u001b[0;34m'file does not start with FORM id'\u001b[0m\u001b[0;34m)\u001b[0m\u001b[0;34m\u001b[0m\u001b[0;34m\u001b[0m\u001b[0m\n",
            "\u001b[0;32m/usr/lib/python3.7/chunk.py\u001b[0m in \u001b[0;36m__init__\u001b[0;34m(self, file, align, bigendian, inclheader)\u001b[0m\n\u001b[1;32m     61\u001b[0m         \u001b[0mself\u001b[0m\u001b[0;34m.\u001b[0m\u001b[0mchunkname\u001b[0m \u001b[0;34m=\u001b[0m \u001b[0mfile\u001b[0m\u001b[0;34m.\u001b[0m\u001b[0mread\u001b[0m\u001b[0;34m(\u001b[0m\u001b[0;36m4\u001b[0m\u001b[0;34m)\u001b[0m\u001b[0;34m\u001b[0m\u001b[0;34m\u001b[0m\u001b[0m\n\u001b[1;32m     62\u001b[0m         \u001b[0;32mif\u001b[0m \u001b[0mlen\u001b[0m\u001b[0;34m(\u001b[0m\u001b[0mself\u001b[0m\u001b[0;34m.\u001b[0m\u001b[0mchunkname\u001b[0m\u001b[0;34m)\u001b[0m \u001b[0;34m<\u001b[0m \u001b[0;36m4\u001b[0m\u001b[0;34m:\u001b[0m\u001b[0;34m\u001b[0m\u001b[0;34m\u001b[0m\u001b[0m\n\u001b[0;32m---> 63\u001b[0;31m             \u001b[0;32mraise\u001b[0m \u001b[0mEOFError\u001b[0m\u001b[0;34m\u001b[0m\u001b[0;34m\u001b[0m\u001b[0m\n\u001b[0m\u001b[1;32m     64\u001b[0m         \u001b[0;32mtry\u001b[0m\u001b[0;34m:\u001b[0m\u001b[0;34m\u001b[0m\u001b[0;34m\u001b[0m\u001b[0m\n\u001b[1;32m     65\u001b[0m             \u001b[0mself\u001b[0m\u001b[0;34m.\u001b[0m\u001b[0mchunksize\u001b[0m \u001b[0;34m=\u001b[0m \u001b[0mstruct\u001b[0m\u001b[0;34m.\u001b[0m\u001b[0munpack_from\u001b[0m\u001b[0;34m(\u001b[0m\u001b[0mstrflag\u001b[0m\u001b[0;34m+\u001b[0m\u001b[0;34m'L'\u001b[0m\u001b[0;34m,\u001b[0m \u001b[0mfile\u001b[0m\u001b[0;34m.\u001b[0m\u001b[0mread\u001b[0m\u001b[0;34m(\u001b[0m\u001b[0;36m4\u001b[0m\u001b[0;34m)\u001b[0m\u001b[0;34m)\u001b[0m\u001b[0;34m[\u001b[0m\u001b[0;36m0\u001b[0m\u001b[0;34m]\u001b[0m\u001b[0;34m\u001b[0m\u001b[0;34m\u001b[0m\u001b[0m\n",
            "\u001b[0;31mEOFError\u001b[0m: "
          ]
        }
      ],
      "source": [
        "train_set = AudioDataSet(train=True, dataset_l=dataset_l, labelname_dict_l=labelname_dict_l)\n",
        "test_set = AudioDataSet(train=False, dataset_l=dataset_l, labelname_dict_l=labelname_dict_l)"
      ]
    },
    {
      "cell_type": "markdown",
      "metadata": {
        "id": "exnvT5CnfGZL"
      },
      "source": [
        "### Test\n",
        "\n",
        "You should get the following output.\n",
        "\n",
        "```\n",
        "len(train_set):  31490\n",
        "len(test_set):  3500\n",
        "/content/drive//My Drive/_sound//_gtzan//dataset_gtzan//pop/pop.00065.wav\n",
        "torch.Size([128, 68])\n",
        "0.023219954648526078\n",
        "duration of a patch in second: 1.5789569160997732\n",
        "```\n",
        "\n",
        "<img src=\"https://perso.telecom-paristech.fr/gpeeters/doc/Lab_DL_MagnaTagATune_02.png\">"
      ]
    },
    {
      "cell_type": "code",
      "execution_count": null,
      "metadata": {
        "id": "dzlAAK6RjejU"
      },
      "outputs": [],
      "source": [
        "print('len(train_set): ', len(train_set))\n",
        "print('len(test_set): ', len(test_set))\n",
        "\n",
        "idx_file = 50\n",
        "print(train_set.audio_filename_l[idx_file])\n",
        "print(train_set[idx_file]['data'].size())\n",
        "print(train_set[idx_file]['STEP_sec'])\n",
        "plt.imshow(train_set[idx_file]['data'].cpu().numpy()); plt.colorbar();\n",
        "\n",
        "print('duration of a patch in second:', train_set[idx_file]['STEP_sec']*train_set[idx_file]['data'].size(1))"
      ]
    },
    {
      "cell_type": "markdown",
      "metadata": {
        "id": "CdS5uMyo55lR"
      },
      "source": [
        "# Torch dataloader\n",
        "\n",
        "```DataLoader```is a **very very convenient** way pytorch to provide to load on the fly the data necessary for a given mini-batch. It will simply pick-up from our DataSets the data necessary for the given mini-batch. We do not need to care about counting them or shuffling them. It does everything for us."
      ]
    },
    {
      "cell_type": "code",
      "execution_count": null,
      "metadata": {
        "id": "jla0kEjGjejU"
      },
      "outputs": [],
      "source": [
        "train_loader = torch.utils.data.DataLoader(train_set, batch_size=32, shuffle=True, num_workers=0)\n",
        "test_loader = torch.utils.data.DataLoader(test_set, batch_size=32, shuffle=False, num_workers=0)"
      ]
    },
    {
      "cell_type": "markdown",
      "metadata": {
        "id": "9Z21KIiI6Nkz"
      },
      "source": [
        "### Test\n",
        "\n",
        "You should get the following output.\n",
        "\n",
        "```\n",
        "torch.Size([32, 128, 68])\n",
        "````\n"
      ]
    },
    {
      "cell_type": "code",
      "execution_count": null,
      "metadata": {
        "id": "YHcTj3-OjejU"
      },
      "outputs": [],
      "source": [
        "one_mini_batch = next(iter(train_loader))\n",
        "one_mini_batch['data'].size()"
      ]
    },
    {
      "cell_type": "markdown",
      "metadata": {
        "id": "1xKPGMLWjejU"
      },
      "source": [
        "# DNN model\n",
        "\n",
        "We now define the architecture of our Deep ConvNet to perform multi-label classification.\n",
        "The network has the following architecture.\n",
        "\n",
        "<img src=\"https://perso.telecom-paristech.fr/gpeeters/doc/Lab_DL_MagnaTagATune_03.png\">"
      ]
    },
    {
      "cell_type": "code",
      "execution_count": 54,
      "metadata": {
        "id": "o9OgbcoWjejV"
      },
      "outputs": [],
      "source": [
        "class DeepConvNet(torch.nn.Module):\n",
        "    \n",
        "    def __init__(self, n_in_H, nb_class):\n",
        "        \"\"\"\n",
        "        inputs:\n",
        "        - n_in_H: input dimension (128 in the case of Log-Mel-Gram)\n",
        "        - nb_class: output dimension (number of tags to be estimated)\n",
        "        \"\"\"\n",
        "\n",
        "        super(DeepConvNet, self).__init__()\n",
        "        \n",
        "        if do_student:\n",
        "            # --- START CODE HERE\n",
        "            self.layer1 = nn.Sequential(\n",
        "                nn.Conv2d(1, 68, 5),\n",
        "                nn.PReLU(),\n",
        "                nn.MaxPool2d(4,1)\n",
        "            )\n",
        "            # --- STOP CODE HERE\n",
        "\n",
        "\n",
        "\n",
        "    def forward(self, x):\n",
        "        if do_student:\n",
        "            # --- START CODE HERE\n",
        "            x = self.layer1(x)\n",
        "            # --- STOP CODE HERE\n",
        "\n",
        "  \n",
        "        return x"
      ]
    },
    {
      "cell_type": "markdown",
      "metadata": {
        "id": "QfLWPxWP_o-a"
      },
      "source": [
        "### Test\n",
        "\n",
        "We instantiate the model, send it to the GPU and display its summary.\n",
        "You should get the following output.\n",
        "\n",
        "```\n",
        "n_in_H:  128\n",
        "cuda:0\n",
        "torch.Size([2, 1, 128, 68])\n",
        "l1_conv:  torch.Size([2, 256, 1, 64])\n",
        "l1_pool:  torch.Size([2, 256, 1, 16])\n",
        "l2_conv:  torch.Size([2, 256, 1, 12])\n",
        "l2_pool: torch.Size([2, 256, 1, 6])\n",
        "l3_conv:  torch.Size([2, 256, 1, 2])\n",
        "l3_conv:  torch.Size([2, 256, 1, 1])\n",
        "l4_fc:  torch.Size([2, 256])\n",
        "l5_fc:  torch.Size([2, 256])\n",
        "l6_fc:  torch.Size([2, 12])\n",
        "----------------------------------------------------------------\n",
        "        Layer (type)               Output Shape         Param #\n",
        "================================================================\n",
        "            Conv2d-1           [-1, 256, 1, 64]         164,096\n",
        "             PReLU-2           [-1, 256, 1, 64]               1\n",
        "         MaxPool2d-3           [-1, 256, 1, 16]               0\n",
        "           Dropout-4           [-1, 256, 1, 16]               0\n",
        "            Conv2d-5           [-1, 256, 1, 12]         327,936\n",
        "             PReLU-6           [-1, 256, 1, 12]               1\n",
        "         MaxPool2d-7            [-1, 256, 1, 6]               0\n",
        "           Dropout-8            [-1, 256, 1, 6]               0\n",
        "            Conv2d-9            [-1, 256, 1, 2]         327,936\n",
        "            PReLU-10            [-1, 256, 1, 2]               1\n",
        "        MaxPool2d-11            [-1, 256, 1, 1]               0\n",
        "          Dropout-12                  [-1, 256]               0\n",
        "           Linear-13                  [-1, 256]          65,792\n",
        "            PReLU-14                  [-1, 256]               1\n",
        "          Dropout-15                  [-1, 256]               0\n",
        "           Linear-16                  [-1, 256]          65,792\n",
        "            PReLU-17                  [-1, 256]               1\n",
        "          Dropout-18                  [-1, 256]               0\n",
        "           Linear-19                   [-1, 12]           3,084\n",
        "================================================================\n",
        "Total params: 954,641\n",
        "Trainable params: 954,641\n",
        "Non-trainable params: 0\n",
        "----------------------------------------------------------------\n",
        "Input size (MB): 0.03\n",
        "Forward/backward pass size (MB): 0.41\n",
        "Params size (MB): 3.64\n",
        "Estimated Total Size (MB): 4.08\n",
        "----------------------------------------------------------------\n",
        "```"
      ]
    },
    {
      "cell_type": "code",
      "execution_count": 55,
      "metadata": {
        "id": "__SddXs8jejV",
        "colab": {
          "base_uri": "https://localhost:8080/",
          "height": 244
        },
        "outputId": "dd78abb0-7ee5-498b-f47e-6dec0e1b52f3"
      },
      "outputs": [
        {
          "output_type": "error",
          "ename": "NameError",
          "evalue": "ignored",
          "traceback": [
            "\u001b[0;31m---------------------------------------------------------------------------\u001b[0m",
            "\u001b[0;31mNameError\u001b[0m                                 Traceback (most recent call last)",
            "\u001b[0;32m<ipython-input-55-994164134f28>\u001b[0m in \u001b[0;36m<module>\u001b[0;34m()\u001b[0m\n\u001b[1;32m      1\u001b[0m \u001b[0;31m# --- Instantiate the model\u001b[0m\u001b[0;34m\u001b[0m\u001b[0;34m\u001b[0m\u001b[0;34m\u001b[0m\u001b[0m\n\u001b[0;32m----> 2\u001b[0;31m \u001b[0mone_mini_batch\u001b[0m \u001b[0;34m=\u001b[0m \u001b[0mnext\u001b[0m\u001b[0;34m(\u001b[0m\u001b[0miter\u001b[0m\u001b[0;34m(\u001b[0m\u001b[0mtrain_loader\u001b[0m\u001b[0;34m)\u001b[0m\u001b[0;34m)\u001b[0m\u001b[0;34m\u001b[0m\u001b[0;34m\u001b[0m\u001b[0m\n\u001b[0m\u001b[1;32m      3\u001b[0m \u001b[0mn_in_H\u001b[0m \u001b[0;34m=\u001b[0m \u001b[0mone_mini_batch\u001b[0m\u001b[0;34m[\u001b[0m\u001b[0;34m'data'\u001b[0m\u001b[0;34m]\u001b[0m\u001b[0;34m.\u001b[0m\u001b[0msize\u001b[0m\u001b[0;34m(\u001b[0m\u001b[0;36m1\u001b[0m\u001b[0;34m)\u001b[0m\u001b[0;34m\u001b[0m\u001b[0;34m\u001b[0m\u001b[0m\n\u001b[1;32m      4\u001b[0m \u001b[0mprint\u001b[0m\u001b[0;34m(\u001b[0m\u001b[0;34m'n_in_H: '\u001b[0m\u001b[0;34m,\u001b[0m \u001b[0mn_in_H\u001b[0m\u001b[0;34m)\u001b[0m\u001b[0;34m\u001b[0m\u001b[0;34m\u001b[0m\u001b[0m\n\u001b[1;32m      5\u001b[0m \u001b[0mmodel\u001b[0m \u001b[0;34m=\u001b[0m \u001b[0mDeepConvNet\u001b[0m\u001b[0;34m(\u001b[0m\u001b[0mn_in_H\u001b[0m\u001b[0;34m=\u001b[0m\u001b[0mn_in_H\u001b[0m\u001b[0;34m,\u001b[0m \u001b[0mnb_class\u001b[0m\u001b[0;34m=\u001b[0m\u001b[0mlen\u001b[0m\u001b[0;34m(\u001b[0m\u001b[0mlabelname_dict_l\u001b[0m\u001b[0;34m)\u001b[0m\u001b[0;34m)\u001b[0m\u001b[0;34m\u001b[0m\u001b[0;34m\u001b[0m\u001b[0m\n",
            "\u001b[0;31mNameError\u001b[0m: name 'train_loader' is not defined"
          ]
        }
      ],
      "source": [
        "# --- Instantiate the model\n",
        "one_mini_batch = next(iter(train_loader))\n",
        "n_in_H = one_mini_batch['data'].size(1)\n",
        "print('n_in_H: ', n_in_H)\n",
        "model = DeepConvNet(n_in_H=n_in_H, nb_class=len(labelname_dict_l))\n",
        "\n",
        "# --- Send the model to GPU\n",
        "device = torch.device(\"cuda:0\" if torch.cuda.is_available() else \"cpu\")\n",
        "print(device)\n",
        "model.cuda()\n",
        "\n",
        "# --- Display the structure of the model\n",
        "from torchsummary import summary\n",
        "summary(model, input_size=(1, n_in_H, 68))"
      ]
    },
    {
      "cell_type": "markdown",
      "metadata": {
        "id": "UP971QDpjejW"
      },
      "source": [
        "# Train the model\n",
        "\n",
        "To train the model, we still need to define a loss to be minimized\n",
        "- what is the loss for a multi-label problem ? \n",
        "- how to gives more weight to the positive classes ?\n",
        "\n",
        "We also need to define an optimizer. We will use Adam with a learning rate of 1e-3."
      ]
    },
    {
      "cell_type": "code",
      "execution_count": null,
      "metadata": {
        "id": "dFw9SCazjejW"
      },
      "outputs": [],
      "source": [
        "if do_student:\n",
        "    # --- START CODE HERE\n",
        "    criterion = ...\n",
        "    optimizer = ...\n",
        "    # --- STOP CODE HERE"
      ]
    },
    {
      "cell_type": "markdown",
      "metadata": {
        "id": "CILd1qSokQzp"
      },
      "source": [
        "### Test\n",
        "\n",
        "Before launching the training, we test the whole pipeline on one batch."
      ]
    },
    {
      "cell_type": "code",
      "execution_count": null,
      "metadata": {
        "id": "FhXdL6e4kP5Q"
      },
      "outputs": [],
      "source": [
        "one_mini_batch = next(iter(train_loader))\n",
        "x = one_mini_batch['data'][:,None,:,:]\n",
        "y = one_mini_batch['target'].cuda()\n",
        "y_hat = model(x)\n",
        "loss = criterion(y_hat, y)"
      ]
    },
    {
      "cell_type": "code",
      "execution_count": null,
      "metadata": {
        "id": "TATthajQiOJ3"
      },
      "outputs": [],
      "source": [
        "import sys\n",
        "sys.path.append(DIR)\n",
        "import tools_score"
      ]
    },
    {
      "cell_type": "code",
      "execution_count": null,
      "metadata": {
        "id": "V2cCDEF1jejW"
      },
      "outputs": [],
      "source": [
        "def train(train_loader, num_epoch):\n",
        "    \"\"\"\n",
        "    train the model\n",
        "    \"\"\"\n",
        "    # --- set model to train mode\n",
        "    model.train()\n",
        "    \n",
        "    my_score = tools_score.Score(do_class_method)\n",
        "\n",
        "    # --- loop over mini-batches\n",
        "    for batch_idx, batch in enumerate(tqdm(train_loader)):\n",
        "        # --- set gradient to zero (in order to avoid cumulating them over batch)\n",
        "        model.zero_grad()        \n",
        "        # --- we need to add the channel dimension to the input\n",
        "        x = batch['data'][:,None,:,:]        \n",
        "        y = batch['target'].cuda()\n",
        "        y_hat = model(x)        \n",
        "        loss = criterion(y_hat, y)\n",
        "        loss.backward()\n",
        "        optimizer.step()                \n",
        "        \n",
        "        my_score.add(loss, y_hat, y)\n",
        "           \n",
        "    my_score.print('Train', num_epoch)\n",
        "    return my_score.get_summary()"
      ]
    },
    {
      "cell_type": "code",
      "execution_count": null,
      "metadata": {
        "id": "IS8qHFk4jejW"
      },
      "outputs": [],
      "source": [
        "def test(test_loader, num_epoch):\n",
        "    \"\"\"\n",
        "    test the model\n",
        "    \"\"\"\n",
        "    # --- set model to eval mode\n",
        "    model.eval()\n",
        "    \n",
        "    my_score = tools_score.Score(do_class_method)\n",
        "\n",
        "    # --- loop over mini-batches\n",
        "    for batch_idx, batch in enumerate(test_loader):\n",
        "        # --- We need to add the channel dimension to the input\n",
        "        x = batch['data'][:,None,:,:]\n",
        "        y = batch['target'].cuda()\n",
        "        y_hat = model(x)\n",
        "        loss = criterion(y_hat, y)\n",
        "\n",
        "        my_score.add(loss, y_hat, y)\n",
        "    \n",
        "    my_score.print('Test', num_epoch) \n",
        "    return my_score.get_summary()"
      ]
    },
    {
      "cell_type": "markdown",
      "metadata": {
        "id": "ZULp5xyMwOB4"
      },
      "source": [
        "#  Do training"
      ]
    },
    {
      "cell_type": "code",
      "execution_count": null,
      "metadata": {
        "id": "2VrmS706jejW"
      },
      "outputs": [],
      "source": [
        "if do_model_train==True:\n",
        "    score_train_l, score_test_l = [], []\n",
        "    # --- loop over epochs\n",
        "    for num_epoch in range(nb_epoch):    \n",
        "        score_train = train(train_loader, num_epoch)\n",
        "        score_test = test(test_loader, num_epoch)\n",
        "        score_train_l.append(score_train)\n",
        "        score_test_l.append(score_test)\n",
        "    torch.save(model.state_dict(), DIR + 'model_torch' + data_ext)\n",
        "else:\n",
        "    model.load_state_dict(torch.load(DIR + 'model_torch' + data_ext))"
      ]
    },
    {
      "cell_type": "markdown",
      "metadata": {
        "id": "q-ODoNSRQEJY"
      },
      "source": [
        "## Display training/test curves\n",
        "\n",
        "We now display the loss, accuracy, TPrate, TNrate for the training and test set.\n",
        "You should get the following output.\n",
        "\n",
        "<img src=\"https://perso.telecom-paristech.fr/gpeeters/doc/Lab_DL_MagnaTagATune_04.png\">"
      ]
    },
    {
      "cell_type": "code",
      "execution_count": null,
      "metadata": {
        "id": "5L0SJQ5HyI2_"
      },
      "outputs": [],
      "source": [
        "# --- Display loss and accuracy for train and test set\n",
        "my_score = tools_score.Score(do_class_method)\n",
        "my_score.plot_curve(score_train_l, score_test_l)"
      ]
    },
    {
      "cell_type": "markdown",
      "metadata": {
        "id": "NS_u2edQjejX"
      },
      "source": [
        "# Display results as tag-o-gram\n",
        "\n",
        "Now that our model has been trained we will use it to create a tag-o-gram (tag likelihood over the patches of an audio file)."
      ]
    },
    {
      "cell_type": "code",
      "execution_count": null,
      "metadata": {
        "id": "XWcYFyOqjejX"
      },
      "outputs": [],
      "source": [
        "def F_tag_o_gram(audio_file):\n",
        "    \"\"\"\n",
        "    \"\"\"\n",
        "    if do_student:\n",
        "        # --- START CODE HERE\n",
        "        ...\n",
        "        # --- STOP CODE HERE\n",
        "\n",
        "    fig, axes = plt.subplots(1, 1, figsize=(16, 6))\n",
        "    im = axes.imshow(y_hat_m.T, aspect='auto', cmap=plt.get_cmap('inferno'))\n",
        "    axes.set_yticks(np.arange(0,len(test_set.labelname_dict_l)))\n",
        "    axes.set_yticklabels(test_set.labelname_dict_l)\n",
        "    axes.grid(True)\n",
        "    fig.colorbar(im, orientation='vertical')\n",
        "\n",
        "    return"
      ]
    },
    {
      "cell_type": "markdown",
      "metadata": {
        "id": "QYN2GjWCj3nA"
      },
      "source": [
        "### Test\n",
        "\n",
        "We now test our tag-o-gram on an audio file.\n",
        "You should get the following output.\n",
        "\n",
        "```\n",
        "{'album': 'CD2 The Sowebo Concert',\n",
        " 'artist': 'Jay Kishor',\n",
        " 'clip_id': 3649,\n",
        " 'mp3_path': 'c/jay_kishor-cd2_the_sowebo_concert-01-raga_malkauns-146-175.mp3',\n",
        " 'original_url': 'http://he3.magnatune.com/all/01-Raga%20Malkauns-Jay%20Kishor.mp3',\n",
        " 'segmentEnd': 175,\n",
        " 'segmentStart': 146,\n",
        " 'tag': ['guitar', 'quiet', 'india'],\n",
        " 'target': array([1., 0., 0., 0., 0., 0., 0., 0., 0., 0., 0., 0.]),\n",
        " 'title': 'Raga Malkauns',\n",
        " 'track_number': 1,\n",
        " 'url': 'http://www.magnatune.com/artists/albums/kishor-sowebo2/'}\n",
        " ````\n",
        "\n",
        "<img src=\"https://perso.telecom-paristech.fr/gpeeters/doc/Lab_DL_MagnaTagATune_05.png\">\n",
        "\n",
        "As you see, while the track has been tagged 'guitar', it actually contains a [sitar](https://en.wikipedia.org/wiki/Sitar); which has been correctly detected by our trained model."
      ]
    },
    {
      "cell_type": "code",
      "execution_count": null,
      "metadata": {
        "id": "VOSb7a2lDHU1"
      },
      "outputs": [],
      "source": [
        "idx_file = 902\n",
        "test_file = DIR + dataset_subDIR + dataset_l[idx_file]['mp3_path']\n",
        "F_tag_o_gram(audio_file = test_file)\n",
        "pp.pprint(dataset_l[idx_file])\n",
        "IPython.display.Audio(test_file)"
      ]
    },
    {
      "cell_type": "code",
      "execution_count": null,
      "metadata": {
        "id": "RSJTkNM-jejX"
      },
      "outputs": [],
      "source": [
        ""
      ]
    }
  ],
  "metadata": {
    "accelerator": "GPU",
    "colab": {
      "collapsed_sections": [],
      "machine_shape": "hm",
      "name": "Nhat-Minh DAO_Lab_Audio_MagnaTagATune__pytorch__2022_02_03__student.ipynb",
      "provenance": []
    },
    "kernelspec": {
      "display_name": "Python 3",
      "language": "python",
      "name": "python3"
    },
    "language_info": {
      "codemirror_mode": {
        "name": "ipython",
        "version": 3
      },
      "file_extension": ".py",
      "mimetype": "text/x-python",
      "name": "python",
      "nbconvert_exporter": "python",
      "pygments_lexer": "ipython3",
      "version": "3.8.5"
    },
    "toc": {
      "base_numbering": 1,
      "nav_menu": {},
      "number_sections": true,
      "sideBar": true,
      "skip_h1_title": false,
      "title_cell": "Table of Contents",
      "title_sidebar": "Contents",
      "toc_cell": false,
      "toc_position": {},
      "toc_section_display": true,
      "toc_window_display": true
    }
  },
  "nbformat": 4,
  "nbformat_minor": 0
}